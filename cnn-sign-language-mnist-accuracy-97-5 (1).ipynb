{
 "cells": [
  {
   "cell_type": "markdown",
   "metadata": {
    "id": "zqrYqv734KAo"
   },
   "source": [
    "\n",
    "\n",
    "# Import libraries.\n"
   ]
  },
  {
   "cell_type": "code",
   "execution_count": 6,
   "metadata": {
    "execution": {
     "iopub.execute_input": "2022-01-31T16:33:32.219155Z",
     "iopub.status.busy": "2022-01-31T16:33:32.218518Z",
     "iopub.status.idle": "2022-01-31T16:33:39.339586Z",
     "shell.execute_reply": "2022-01-31T16:33:39.338748Z",
     "shell.execute_reply.started": "2022-01-31T16:33:32.219049Z"
    },
    "id": "1eb99db7"
   },
   "outputs": [],
   "source": [
    "# Core\n",
    "import numpy as np\n",
    "import pandas as pd \n",
    "import matplotlib.pyplot as plt \n",
    "import seaborn as sns;\n",
    "import random\n",
    "import tensorflow as tf\n",
    "from tensorflow import keras\n",
    "from tensorflow.keras import Sequential\n",
    "from tensorflow.keras.layers import Flatten, Dense,BatchNormalization,Dropout,Input\n",
    "from keras.models import Sequential, Model\n",
    "from keras.layers import Conv2D\n",
    "from tensorflow.keras import datasets, layers, models\n",
    "from keras.layers import Input, Conv2D, MaxPooling2D, UpSampling2D, concatenate, Conv2DTranspose, BatchNormalization, Dropout, Lambda\n",
    "from sklearn.metrics import plot_confusion_matrix ,classification_report\n",
    "from sklearn.metrics import accuracy_score, precision_score,recall_score,f1_score\n",
    "import cv2"
   ]
  },
  {
   "cell_type": "markdown",
   "metadata": {
    "id": "JE_1ztaHWq4h"
   },
   "source": [
    "# bussiness task\n",
    "The original MNIST image dataset of handwritten digits is a popular benchmark for image-based machine learning methods but researchers have renewed efforts to update it and develop drop-in replacements that are more challenging for computer vision and original for real-world applications. As noted in one recent replacement called the Fashion-MNIST dataset, the Zalando researchers quoted the startling claim that \"Most pairs of MNIST digits (784 total pixels per sample) can be distinguished pretty well by just one pixel\". To stimulate the community to develop more drop-in replacements, the Sign Language MNIST is presented here and follows the same CSV format with labels and pixel values in single rows. The American Sign Language letter database of hand gestures represent a multi-class problem with 24 classes of letters (excluding J and Z which require motion).\n",
    "\n",
    "The dataset format is patterned to match closely with the classic MNIST. Each training and test case represents a label (0-25) as a one-to-one map for each alphabetic letter A-Z (and no cases for 9=J or 25=Z because of gesture motions). The training data (27,455 cases) and test data (7172 cases) are approximately half the size of the standard MNIST but otherwise similar with a header row of label, pixel1,pixel2….pixel784 which represent a single 28x28 pixel image with grayscale values between 0-255. The original hand gesture image data represented multiple users repeating the gesture against different backgrounds. The Sign Language MNIST data came from greatly extending the small number (1704) of the color images included as not cropped around the hand region of interest. To create new data, an image pipeline was used based on ImageMagick and included cropping to hands-only, gray-scaling, resizing, and then creating at least 50+ variations to enlarge the quantity. The modification and expansion strategy was filters ('Mitchell', 'Robidoux', 'Catrom', 'Spline', 'Hermite'), along with 5% random pixelation, +/- 15% brightness/contrast, and finally 3 degrees rotation. Because of the tiny size of the images, these modifications effectively alter the resolution and class separation in interesting, controllable ways.\n",
    "\n",
    "This dataset was inspired by the Fashion-MNIST 2 and the machine learning pipeline for gestures by Sreehari 4.\n",
    "\n",
    "A robust visual recognition algorithm could provide not only new benchmarks that challenge modern machine learning methods such as Convolutional Neural Nets but also could pragmatically help the deaf and hard-of-hearing better communicate using computer vision applications. The National Institute on Deafness and other Communications Disorders (NIDCD) indicates that the 200-year-old American Sign Language is a complete, complex language (of which letter gestures are only part) but is the primary language for many deaf North Americans. ASL is the leading minority language in the U.S. after the \"big four\": Spanish, Italian, German, and French. One could implement computer vision in an inexpensive board computer like Raspberry Pi with OpenCV, and some Text-to-Speech to enabling improved and automated translation applications\n"
   ]
  },
  {
   "cell_type": "code",
   "execution_count": 7,
   "metadata": {
    "execution": {
     "iopub.execute_input": "2022-01-31T16:33:39.34125Z",
     "iopub.status.busy": "2022-01-31T16:33:39.34106Z",
     "iopub.status.idle": "2022-01-31T16:33:39.345063Z",
     "shell.execute_reply": "2022-01-31T16:33:39.344199Z",
     "shell.execute_reply.started": "2022-01-31T16:33:39.341227Z"
    },
    "id": "4DTeuvL_TphS"
   },
   "outputs": [],
   "source": [
    "seed = 42\n",
    "np.random.seed =seed"
   ]
  },
  {
   "cell_type": "markdown",
   "metadata": {
    "id": "k0v6p8vWuELn"
   },
   "source": [
    "# Reading Data"
   ]
  },
  {
   "cell_type": "code",
   "execution_count": 8,
   "metadata": {
    "execution": {
     "iopub.execute_input": "2022-01-31T16:33:39.347173Z",
     "iopub.status.busy": "2022-01-31T16:33:39.346424Z",
     "iopub.status.idle": "2022-01-31T16:33:39.365614Z",
     "shell.execute_reply": "2022-01-31T16:33:39.364961Z",
     "shell.execute_reply.started": "2022-01-31T16:33:39.347124Z"
    },
    "id": "SObF1eELXA7t"
   },
   "outputs": [],
   "source": [
    "train_path = '../input/sign-language-mnist/sign_mnist_train/sign_mnist_train.csv'\n",
    "test_path  = '../input/sign-language-mnist/sign_mnist_test/sign_mnist_test.csv'"
   ]
  },
  {
   "cell_type": "code",
   "execution_count": 9,
   "metadata": {
    "execution": {
     "iopub.execute_input": "2022-01-31T16:33:39.367963Z",
     "iopub.status.busy": "2022-01-31T16:33:39.367468Z",
     "iopub.status.idle": "2022-01-31T16:33:43.290616Z",
     "shell.execute_reply": "2022-01-31T16:33:43.289735Z",
     "shell.execute_reply.started": "2022-01-31T16:33:39.367909Z"
    },
    "id": "NpM1nVlgXA_U"
   },
   "outputs": [
    {
     "ename": "FileNotFoundError",
     "evalue": "[Errno 2] No such file or directory: 'sign_mnist_train.csv'",
     "output_type": "error",
     "traceback": [
      "\u001b[1;31m---------------------------------------------------------------------------\u001b[0m",
      "\u001b[1;31mFileNotFoundError\u001b[0m                         Traceback (most recent call last)",
      "Input \u001b[1;32mIn [9]\u001b[0m, in \u001b[0;36m<cell line: 1>\u001b[1;34m()\u001b[0m\n\u001b[1;32m----> 1\u001b[0m train \u001b[38;5;241m=\u001b[39m \u001b[43mpd\u001b[49m\u001b[38;5;241;43m.\u001b[39;49m\u001b[43mread_csv\u001b[49m\u001b[43m(\u001b[49m\u001b[38;5;124;43m'\u001b[39;49m\u001b[38;5;124;43msign_mnist_train.csv\u001b[39;49m\u001b[38;5;124;43m'\u001b[39;49m\u001b[43m)\u001b[49m\n\u001b[0;32m      2\u001b[0m test  \u001b[38;5;241m=\u001b[39m pd\u001b[38;5;241m.\u001b[39mread_csv(\u001b[38;5;124m'\u001b[39m\u001b[38;5;124msign_mnist_test.csv\u001b[39m\u001b[38;5;124m'\u001b[39m)\n",
      "File \u001b[1;32m~\\AppData\\Local\\Programs\\Python\\Python310\\lib\\site-packages\\pandas\\util\\_decorators.py:211\u001b[0m, in \u001b[0;36mdeprecate_kwarg.<locals>._deprecate_kwarg.<locals>.wrapper\u001b[1;34m(*args, **kwargs)\u001b[0m\n\u001b[0;32m    209\u001b[0m     \u001b[38;5;28;01melse\u001b[39;00m:\n\u001b[0;32m    210\u001b[0m         kwargs[new_arg_name] \u001b[38;5;241m=\u001b[39m new_arg_value\n\u001b[1;32m--> 211\u001b[0m \u001b[38;5;28;01mreturn\u001b[39;00m func(\u001b[38;5;241m*\u001b[39margs, \u001b[38;5;241m*\u001b[39m\u001b[38;5;241m*\u001b[39mkwargs)\n",
      "File \u001b[1;32m~\\AppData\\Local\\Programs\\Python\\Python310\\lib\\site-packages\\pandas\\util\\_decorators.py:317\u001b[0m, in \u001b[0;36mdeprecate_nonkeyword_arguments.<locals>.decorate.<locals>.wrapper\u001b[1;34m(*args, **kwargs)\u001b[0m\n\u001b[0;32m    311\u001b[0m \u001b[38;5;28;01mif\u001b[39;00m \u001b[38;5;28mlen\u001b[39m(args) \u001b[38;5;241m>\u001b[39m num_allow_args:\n\u001b[0;32m    312\u001b[0m     warnings\u001b[38;5;241m.\u001b[39mwarn(\n\u001b[0;32m    313\u001b[0m         msg\u001b[38;5;241m.\u001b[39mformat(arguments\u001b[38;5;241m=\u001b[39marguments),\n\u001b[0;32m    314\u001b[0m         \u001b[38;5;167;01mFutureWarning\u001b[39;00m,\n\u001b[0;32m    315\u001b[0m         stacklevel\u001b[38;5;241m=\u001b[39mfind_stack_level(inspect\u001b[38;5;241m.\u001b[39mcurrentframe()),\n\u001b[0;32m    316\u001b[0m     )\n\u001b[1;32m--> 317\u001b[0m \u001b[38;5;28;01mreturn\u001b[39;00m func(\u001b[38;5;241m*\u001b[39margs, \u001b[38;5;241m*\u001b[39m\u001b[38;5;241m*\u001b[39mkwargs)\n",
      "File \u001b[1;32m~\\AppData\\Local\\Programs\\Python\\Python310\\lib\\site-packages\\pandas\\io\\parsers\\readers.py:950\u001b[0m, in \u001b[0;36mread_csv\u001b[1;34m(filepath_or_buffer, sep, delimiter, header, names, index_col, usecols, squeeze, prefix, mangle_dupe_cols, dtype, engine, converters, true_values, false_values, skipinitialspace, skiprows, skipfooter, nrows, na_values, keep_default_na, na_filter, verbose, skip_blank_lines, parse_dates, infer_datetime_format, keep_date_col, date_parser, dayfirst, cache_dates, iterator, chunksize, compression, thousands, decimal, lineterminator, quotechar, quoting, doublequote, escapechar, comment, encoding, encoding_errors, dialect, error_bad_lines, warn_bad_lines, on_bad_lines, delim_whitespace, low_memory, memory_map, float_precision, storage_options)\u001b[0m\n\u001b[0;32m    935\u001b[0m kwds_defaults \u001b[38;5;241m=\u001b[39m _refine_defaults_read(\n\u001b[0;32m    936\u001b[0m     dialect,\n\u001b[0;32m    937\u001b[0m     delimiter,\n\u001b[1;32m   (...)\u001b[0m\n\u001b[0;32m    946\u001b[0m     defaults\u001b[38;5;241m=\u001b[39m{\u001b[38;5;124m\"\u001b[39m\u001b[38;5;124mdelimiter\u001b[39m\u001b[38;5;124m\"\u001b[39m: \u001b[38;5;124m\"\u001b[39m\u001b[38;5;124m,\u001b[39m\u001b[38;5;124m\"\u001b[39m},\n\u001b[0;32m    947\u001b[0m )\n\u001b[0;32m    948\u001b[0m kwds\u001b[38;5;241m.\u001b[39mupdate(kwds_defaults)\n\u001b[1;32m--> 950\u001b[0m \u001b[38;5;28;01mreturn\u001b[39;00m \u001b[43m_read\u001b[49m\u001b[43m(\u001b[49m\u001b[43mfilepath_or_buffer\u001b[49m\u001b[43m,\u001b[49m\u001b[43m \u001b[49m\u001b[43mkwds\u001b[49m\u001b[43m)\u001b[49m\n",
      "File \u001b[1;32m~\\AppData\\Local\\Programs\\Python\\Python310\\lib\\site-packages\\pandas\\io\\parsers\\readers.py:605\u001b[0m, in \u001b[0;36m_read\u001b[1;34m(filepath_or_buffer, kwds)\u001b[0m\n\u001b[0;32m    602\u001b[0m _validate_names(kwds\u001b[38;5;241m.\u001b[39mget(\u001b[38;5;124m\"\u001b[39m\u001b[38;5;124mnames\u001b[39m\u001b[38;5;124m\"\u001b[39m, \u001b[38;5;28;01mNone\u001b[39;00m))\n\u001b[0;32m    604\u001b[0m \u001b[38;5;66;03m# Create the parser.\u001b[39;00m\n\u001b[1;32m--> 605\u001b[0m parser \u001b[38;5;241m=\u001b[39m TextFileReader(filepath_or_buffer, \u001b[38;5;241m*\u001b[39m\u001b[38;5;241m*\u001b[39mkwds)\n\u001b[0;32m    607\u001b[0m \u001b[38;5;28;01mif\u001b[39;00m chunksize \u001b[38;5;129;01mor\u001b[39;00m iterator:\n\u001b[0;32m    608\u001b[0m     \u001b[38;5;28;01mreturn\u001b[39;00m parser\n",
      "File \u001b[1;32m~\\AppData\\Local\\Programs\\Python\\Python310\\lib\\site-packages\\pandas\\io\\parsers\\readers.py:1442\u001b[0m, in \u001b[0;36mTextFileReader.__init__\u001b[1;34m(self, f, engine, **kwds)\u001b[0m\n\u001b[0;32m   1439\u001b[0m     \u001b[38;5;28mself\u001b[39m\u001b[38;5;241m.\u001b[39moptions[\u001b[38;5;124m\"\u001b[39m\u001b[38;5;124mhas_index_names\u001b[39m\u001b[38;5;124m\"\u001b[39m] \u001b[38;5;241m=\u001b[39m kwds[\u001b[38;5;124m\"\u001b[39m\u001b[38;5;124mhas_index_names\u001b[39m\u001b[38;5;124m\"\u001b[39m]\n\u001b[0;32m   1441\u001b[0m \u001b[38;5;28mself\u001b[39m\u001b[38;5;241m.\u001b[39mhandles: IOHandles \u001b[38;5;241m|\u001b[39m \u001b[38;5;28;01mNone\u001b[39;00m \u001b[38;5;241m=\u001b[39m \u001b[38;5;28;01mNone\u001b[39;00m\n\u001b[1;32m-> 1442\u001b[0m \u001b[38;5;28mself\u001b[39m\u001b[38;5;241m.\u001b[39m_engine \u001b[38;5;241m=\u001b[39m \u001b[38;5;28;43mself\u001b[39;49m\u001b[38;5;241;43m.\u001b[39;49m\u001b[43m_make_engine\u001b[49m\u001b[43m(\u001b[49m\u001b[43mf\u001b[49m\u001b[43m,\u001b[49m\u001b[43m \u001b[49m\u001b[38;5;28;43mself\u001b[39;49m\u001b[38;5;241;43m.\u001b[39;49m\u001b[43mengine\u001b[49m\u001b[43m)\u001b[49m\n",
      "File \u001b[1;32m~\\AppData\\Local\\Programs\\Python\\Python310\\lib\\site-packages\\pandas\\io\\parsers\\readers.py:1729\u001b[0m, in \u001b[0;36mTextFileReader._make_engine\u001b[1;34m(self, f, engine)\u001b[0m\n\u001b[0;32m   1727\u001b[0m     is_text \u001b[38;5;241m=\u001b[39m \u001b[38;5;28;01mFalse\u001b[39;00m\n\u001b[0;32m   1728\u001b[0m     mode \u001b[38;5;241m=\u001b[39m \u001b[38;5;124m\"\u001b[39m\u001b[38;5;124mrb\u001b[39m\u001b[38;5;124m\"\u001b[39m\n\u001b[1;32m-> 1729\u001b[0m \u001b[38;5;28mself\u001b[39m\u001b[38;5;241m.\u001b[39mhandles \u001b[38;5;241m=\u001b[39m \u001b[43mget_handle\u001b[49m\u001b[43m(\u001b[49m\n\u001b[0;32m   1730\u001b[0m \u001b[43m    \u001b[49m\u001b[43mf\u001b[49m\u001b[43m,\u001b[49m\n\u001b[0;32m   1731\u001b[0m \u001b[43m    \u001b[49m\u001b[43mmode\u001b[49m\u001b[43m,\u001b[49m\n\u001b[0;32m   1732\u001b[0m \u001b[43m    \u001b[49m\u001b[43mencoding\u001b[49m\u001b[38;5;241;43m=\u001b[39;49m\u001b[38;5;28;43mself\u001b[39;49m\u001b[38;5;241;43m.\u001b[39;49m\u001b[43moptions\u001b[49m\u001b[38;5;241;43m.\u001b[39;49m\u001b[43mget\u001b[49m\u001b[43m(\u001b[49m\u001b[38;5;124;43m\"\u001b[39;49m\u001b[38;5;124;43mencoding\u001b[39;49m\u001b[38;5;124;43m\"\u001b[39;49m\u001b[43m,\u001b[49m\u001b[43m \u001b[49m\u001b[38;5;28;43;01mNone\u001b[39;49;00m\u001b[43m)\u001b[49m\u001b[43m,\u001b[49m\n\u001b[0;32m   1733\u001b[0m \u001b[43m    \u001b[49m\u001b[43mcompression\u001b[49m\u001b[38;5;241;43m=\u001b[39;49m\u001b[38;5;28;43mself\u001b[39;49m\u001b[38;5;241;43m.\u001b[39;49m\u001b[43moptions\u001b[49m\u001b[38;5;241;43m.\u001b[39;49m\u001b[43mget\u001b[49m\u001b[43m(\u001b[49m\u001b[38;5;124;43m\"\u001b[39;49m\u001b[38;5;124;43mcompression\u001b[39;49m\u001b[38;5;124;43m\"\u001b[39;49m\u001b[43m,\u001b[49m\u001b[43m \u001b[49m\u001b[38;5;28;43;01mNone\u001b[39;49;00m\u001b[43m)\u001b[49m\u001b[43m,\u001b[49m\n\u001b[0;32m   1734\u001b[0m \u001b[43m    \u001b[49m\u001b[43mmemory_map\u001b[49m\u001b[38;5;241;43m=\u001b[39;49m\u001b[38;5;28;43mself\u001b[39;49m\u001b[38;5;241;43m.\u001b[39;49m\u001b[43moptions\u001b[49m\u001b[38;5;241;43m.\u001b[39;49m\u001b[43mget\u001b[49m\u001b[43m(\u001b[49m\u001b[38;5;124;43m\"\u001b[39;49m\u001b[38;5;124;43mmemory_map\u001b[39;49m\u001b[38;5;124;43m\"\u001b[39;49m\u001b[43m,\u001b[49m\u001b[43m \u001b[49m\u001b[38;5;28;43;01mFalse\u001b[39;49;00m\u001b[43m)\u001b[49m\u001b[43m,\u001b[49m\n\u001b[0;32m   1735\u001b[0m \u001b[43m    \u001b[49m\u001b[43mis_text\u001b[49m\u001b[38;5;241;43m=\u001b[39;49m\u001b[43mis_text\u001b[49m\u001b[43m,\u001b[49m\n\u001b[0;32m   1736\u001b[0m \u001b[43m    \u001b[49m\u001b[43merrors\u001b[49m\u001b[38;5;241;43m=\u001b[39;49m\u001b[38;5;28;43mself\u001b[39;49m\u001b[38;5;241;43m.\u001b[39;49m\u001b[43moptions\u001b[49m\u001b[38;5;241;43m.\u001b[39;49m\u001b[43mget\u001b[49m\u001b[43m(\u001b[49m\u001b[38;5;124;43m\"\u001b[39;49m\u001b[38;5;124;43mencoding_errors\u001b[39;49m\u001b[38;5;124;43m\"\u001b[39;49m\u001b[43m,\u001b[49m\u001b[43m \u001b[49m\u001b[38;5;124;43m\"\u001b[39;49m\u001b[38;5;124;43mstrict\u001b[39;49m\u001b[38;5;124;43m\"\u001b[39;49m\u001b[43m)\u001b[49m\u001b[43m,\u001b[49m\n\u001b[0;32m   1737\u001b[0m \u001b[43m    \u001b[49m\u001b[43mstorage_options\u001b[49m\u001b[38;5;241;43m=\u001b[39;49m\u001b[38;5;28;43mself\u001b[39;49m\u001b[38;5;241;43m.\u001b[39;49m\u001b[43moptions\u001b[49m\u001b[38;5;241;43m.\u001b[39;49m\u001b[43mget\u001b[49m\u001b[43m(\u001b[49m\u001b[38;5;124;43m\"\u001b[39;49m\u001b[38;5;124;43mstorage_options\u001b[39;49m\u001b[38;5;124;43m\"\u001b[39;49m\u001b[43m,\u001b[49m\u001b[43m \u001b[49m\u001b[38;5;28;43;01mNone\u001b[39;49;00m\u001b[43m)\u001b[49m\u001b[43m,\u001b[49m\n\u001b[0;32m   1738\u001b[0m \u001b[43m\u001b[49m\u001b[43m)\u001b[49m\n\u001b[0;32m   1739\u001b[0m \u001b[38;5;28;01massert\u001b[39;00m \u001b[38;5;28mself\u001b[39m\u001b[38;5;241m.\u001b[39mhandles \u001b[38;5;129;01mis\u001b[39;00m \u001b[38;5;129;01mnot\u001b[39;00m \u001b[38;5;28;01mNone\u001b[39;00m\n\u001b[0;32m   1740\u001b[0m f \u001b[38;5;241m=\u001b[39m \u001b[38;5;28mself\u001b[39m\u001b[38;5;241m.\u001b[39mhandles\u001b[38;5;241m.\u001b[39mhandle\n",
      "File \u001b[1;32m~\\AppData\\Local\\Programs\\Python\\Python310\\lib\\site-packages\\pandas\\io\\common.py:857\u001b[0m, in \u001b[0;36mget_handle\u001b[1;34m(path_or_buf, mode, encoding, compression, memory_map, is_text, errors, storage_options)\u001b[0m\n\u001b[0;32m    852\u001b[0m \u001b[38;5;28;01melif\u001b[39;00m \u001b[38;5;28misinstance\u001b[39m(handle, \u001b[38;5;28mstr\u001b[39m):\n\u001b[0;32m    853\u001b[0m     \u001b[38;5;66;03m# Check whether the filename is to be opened in binary mode.\u001b[39;00m\n\u001b[0;32m    854\u001b[0m     \u001b[38;5;66;03m# Binary mode does not support 'encoding' and 'newline'.\u001b[39;00m\n\u001b[0;32m    855\u001b[0m     \u001b[38;5;28;01mif\u001b[39;00m ioargs\u001b[38;5;241m.\u001b[39mencoding \u001b[38;5;129;01mand\u001b[39;00m \u001b[38;5;124m\"\u001b[39m\u001b[38;5;124mb\u001b[39m\u001b[38;5;124m\"\u001b[39m \u001b[38;5;129;01mnot\u001b[39;00m \u001b[38;5;129;01min\u001b[39;00m ioargs\u001b[38;5;241m.\u001b[39mmode:\n\u001b[0;32m    856\u001b[0m         \u001b[38;5;66;03m# Encoding\u001b[39;00m\n\u001b[1;32m--> 857\u001b[0m         handle \u001b[38;5;241m=\u001b[39m \u001b[38;5;28;43mopen\u001b[39;49m\u001b[43m(\u001b[49m\n\u001b[0;32m    858\u001b[0m \u001b[43m            \u001b[49m\u001b[43mhandle\u001b[49m\u001b[43m,\u001b[49m\n\u001b[0;32m    859\u001b[0m \u001b[43m            \u001b[49m\u001b[43mioargs\u001b[49m\u001b[38;5;241;43m.\u001b[39;49m\u001b[43mmode\u001b[49m\u001b[43m,\u001b[49m\n\u001b[0;32m    860\u001b[0m \u001b[43m            \u001b[49m\u001b[43mencoding\u001b[49m\u001b[38;5;241;43m=\u001b[39;49m\u001b[43mioargs\u001b[49m\u001b[38;5;241;43m.\u001b[39;49m\u001b[43mencoding\u001b[49m\u001b[43m,\u001b[49m\n\u001b[0;32m    861\u001b[0m \u001b[43m            \u001b[49m\u001b[43merrors\u001b[49m\u001b[38;5;241;43m=\u001b[39;49m\u001b[43merrors\u001b[49m\u001b[43m,\u001b[49m\n\u001b[0;32m    862\u001b[0m \u001b[43m            \u001b[49m\u001b[43mnewline\u001b[49m\u001b[38;5;241;43m=\u001b[39;49m\u001b[38;5;124;43m\"\u001b[39;49m\u001b[38;5;124;43m\"\u001b[39;49m\u001b[43m,\u001b[49m\n\u001b[0;32m    863\u001b[0m \u001b[43m        \u001b[49m\u001b[43m)\u001b[49m\n\u001b[0;32m    864\u001b[0m     \u001b[38;5;28;01melse\u001b[39;00m:\n\u001b[0;32m    865\u001b[0m         \u001b[38;5;66;03m# Binary mode\u001b[39;00m\n\u001b[0;32m    866\u001b[0m         handle \u001b[38;5;241m=\u001b[39m \u001b[38;5;28mopen\u001b[39m(handle, ioargs\u001b[38;5;241m.\u001b[39mmode)\n",
      "\u001b[1;31mFileNotFoundError\u001b[0m: [Errno 2] No such file or directory: 'sign_mnist_train.csv'"
     ]
    }
   ],
   "source": [
    "train = pd.read_csv('sign_mnist_train.csv')\n",
    "test  = pd.read_csv('sign_mnist_test.csv')"
   ]
  },
  {
   "cell_type": "code",
   "execution_count": null,
   "metadata": {
    "execution": {
     "iopub.execute_input": "2022-01-31T16:33:43.292146Z",
     "iopub.status.busy": "2022-01-31T16:33:43.291909Z",
     "iopub.status.idle": "2022-01-31T16:33:43.320242Z",
     "shell.execute_reply": "2022-01-31T16:33:43.319227Z",
     "shell.execute_reply.started": "2022-01-31T16:33:43.292115Z"
    },
    "id": "Huq2FBfeXBHF",
    "outputId": "965bd84f-9178-45ef-91a0-ddfe24e36378"
   },
   "outputs": [],
   "source": [
    "train.head(10)"
   ]
  },
  {
   "cell_type": "code",
   "execution_count": null,
   "metadata": {
    "execution": {
     "iopub.execute_input": "2022-01-31T16:33:43.322535Z",
     "iopub.status.busy": "2022-01-31T16:33:43.321614Z",
     "iopub.status.idle": "2022-01-31T16:33:43.340402Z",
     "shell.execute_reply": "2022-01-31T16:33:43.339397Z",
     "shell.execute_reply.started": "2022-01-31T16:33:43.322488Z"
    },
    "id": "DymMZPLtX6oI",
    "outputId": "d59456c7-a472-45d1-ec10-8ee4ae69cdb7"
   },
   "outputs": [],
   "source": [
    "test.head(10)"
   ]
  },
  {
   "cell_type": "markdown",
   "metadata": {
    "id": "2Z1NuzUXCq_i"
   },
   "source": [
    "# Data Cleaning\n",
    "1.   Check Null data \n",
    "2.   Drop Non Important Data\n",
    "3.   check douplicate data \n"
   ]
  },
  {
   "cell_type": "code",
   "execution_count": null,
   "metadata": {
    "execution": {
     "iopub.execute_input": "2022-01-31T16:33:43.341799Z",
     "iopub.status.busy": "2022-01-31T16:33:43.341554Z",
     "iopub.status.idle": "2022-01-31T16:34:12.198686Z",
     "shell.execute_reply": "2022-01-31T16:34:12.197702Z",
     "shell.execute_reply.started": "2022-01-31T16:33:43.34177Z"
    },
    "id": "3t8yVOTdYXnB",
    "outputId": "78fb160e-e250-4ce2-ab1f-b95b416ed254"
   },
   "outputs": [],
   "source": [
    "cols =train.columns\n",
    "colours = ['#747BA1', '#FFBA77'] # specify the orange  - yellow is missing. blue is not missing.\n",
    "sns.heatmap(train[cols].isnull(), cmap=sns.color_palette(colours))"
   ]
  },
  {
   "cell_type": "code",
   "execution_count": null,
   "metadata": {
    "execution": {
     "iopub.execute_input": "2022-01-31T16:34:12.200087Z",
     "iopub.status.busy": "2022-01-31T16:34:12.199862Z",
     "iopub.status.idle": "2022-01-31T16:34:20.103174Z",
     "shell.execute_reply": "2022-01-31T16:34:20.101977Z",
     "shell.execute_reply.started": "2022-01-31T16:34:12.200052Z"
    },
    "id": "emopGF3gYlH1",
    "outputId": "68ae2484-8583-4464-9ceb-1ae3e7b89c62"
   },
   "outputs": [],
   "source": [
    "cols =test.columns\n",
    "colours = ['#747BA1', '#FFBA77'] # specify the orange  - yellow is missing. blue is not missing.\n",
    "sns.heatmap(test[cols].isnull(), cmap=sns.color_palette(colours))"
   ]
  },
  {
   "cell_type": "code",
   "execution_count": null,
   "metadata": {
    "execution": {
     "iopub.execute_input": "2022-01-31T16:34:20.105008Z",
     "iopub.status.busy": "2022-01-31T16:34:20.104769Z",
     "iopub.status.idle": "2022-01-31T16:34:20.141187Z",
     "shell.execute_reply": "2022-01-31T16:34:20.140153Z",
     "shell.execute_reply.started": "2022-01-31T16:34:20.104981Z"
    },
    "id": "BxaepJcRY-yT",
    "outputId": "ce4e5be2-fbd6-43db-a948-df2ea589c4a4"
   },
   "outputs": [],
   "source": [
    "train.isna().sum().sort_values(ascending=True)"
   ]
  },
  {
   "cell_type": "code",
   "execution_count": null,
   "metadata": {
    "execution": {
     "iopub.execute_input": "2022-01-31T16:34:20.145143Z",
     "iopub.status.busy": "2022-01-31T16:34:20.1449Z",
     "iopub.status.idle": "2022-01-31T16:34:20.164481Z",
     "shell.execute_reply": "2022-01-31T16:34:20.163635Z",
     "shell.execute_reply.started": "2022-01-31T16:34:20.145116Z"
    },
    "id": "HKb53aI6ZYbK",
    "outputId": "cbdb4bd8-e33d-48d9-8b6d-2034eed95105"
   },
   "outputs": [],
   "source": [
    "test.isna().sum().sort_values(ascending=True)"
   ]
  },
  {
   "cell_type": "code",
   "execution_count": null,
   "metadata": {
    "execution": {
     "iopub.execute_input": "2022-01-31T16:34:20.167795Z",
     "iopub.status.busy": "2022-01-31T16:34:20.167512Z",
     "iopub.status.idle": "2022-01-31T16:34:20.880796Z",
     "shell.execute_reply": "2022-01-31T16:34:20.879775Z",
     "shell.execute_reply.started": "2022-01-31T16:34:20.167765Z"
    },
    "id": "22-GJuPaYmvC"
   },
   "outputs": [],
   "source": [
    "train = train.drop_duplicates()\n",
    "test  = test.drop_duplicates()"
   ]
  },
  {
   "cell_type": "code",
   "execution_count": null,
   "metadata": {
    "execution": {
     "iopub.execute_input": "2022-01-31T16:34:20.882803Z",
     "iopub.status.busy": "2022-01-31T16:34:20.882059Z",
     "iopub.status.idle": "2022-01-31T16:34:20.886536Z",
     "shell.execute_reply": "2022-01-31T16:34:20.885652Z",
     "shell.execute_reply.started": "2022-01-31T16:34:20.88277Z"
    },
    "id": "hvsEYcDZZhpK"
   },
   "outputs": [],
   "source": [
    "# here in this part we will ckeck shape of data so we want to reshape data to be (x,28,28,1)"
   ]
  },
  {
   "cell_type": "code",
   "execution_count": null,
   "metadata": {
    "execution": {
     "iopub.execute_input": "2022-01-31T16:34:20.888159Z",
     "iopub.status.busy": "2022-01-31T16:34:20.88782Z",
     "iopub.status.idle": "2022-01-31T16:34:20.899059Z",
     "shell.execute_reply": "2022-01-31T16:34:20.898049Z",
     "shell.execute_reply.started": "2022-01-31T16:34:20.888124Z"
    },
    "id": "gzNmzMAvZ7EA",
    "outputId": "209404e8-56c1-41c7-90ea-ecb642c7578b"
   },
   "outputs": [],
   "source": [
    "print(train.shape)\n",
    "print(test.shape)"
   ]
  },
  {
   "cell_type": "code",
   "execution_count": null,
   "metadata": {
    "execution": {
     "iopub.execute_input": "2022-01-31T16:34:20.900625Z",
     "iopub.status.busy": "2022-01-31T16:34:20.900352Z",
     "iopub.status.idle": "2022-01-31T16:34:20.962447Z",
     "shell.execute_reply": "2022-01-31T16:34:20.961429Z",
     "shell.execute_reply.started": "2022-01-31T16:34:20.900593Z"
    },
    "id": "Jeozq6DoZ7L-"
   },
   "outputs": [],
   "source": [
    "label = train['label']\n",
    "train = train.drop(['label'],axis=1)"
   ]
  },
  {
   "cell_type": "code",
   "execution_count": null,
   "metadata": {
    "execution": {
     "iopub.execute_input": "2022-01-31T16:34:20.96415Z",
     "iopub.status.busy": "2022-01-31T16:34:20.963827Z",
     "iopub.status.idle": "2022-01-31T16:34:20.989749Z",
     "shell.execute_reply": "2022-01-31T16:34:20.988848Z",
     "shell.execute_reply.started": "2022-01-31T16:34:20.964106Z"
    },
    "id": "TRxd7KxtZ7Q3"
   },
   "outputs": [],
   "source": [
    "test_label = test['label']\n",
    "test = test.drop(['label'],axis=1)"
   ]
  },
  {
   "cell_type": "code",
   "execution_count": null,
   "metadata": {
    "execution": {
     "iopub.execute_input": "2022-01-31T16:34:20.991185Z",
     "iopub.status.busy": "2022-01-31T16:34:20.990931Z",
     "iopub.status.idle": "2022-01-31T16:34:21.003481Z",
     "shell.execute_reply": "2022-01-31T16:34:21.002351Z",
     "shell.execute_reply.started": "2022-01-31T16:34:20.991155Z"
    },
    "id": "CL5-oMYask4g",
    "outputId": "eb58d004-0e6c-4dbd-fb64-8d7dff8d684c"
   },
   "outputs": [],
   "source": [
    "print(train.shape)\n",
    "print(test.shape)\n",
    "print(label.shape)\n",
    "print(test_label.shape)"
   ]
  },
  {
   "cell_type": "markdown",
   "metadata": {
    "id": "ct1kQj1wEtlY"
   },
   "source": [
    "# Data Visualization\n",
    "in this part we will analays and versialize each part of data to be in near step from our goal then pased on deployed models we will sense best factior that affect on our bussiness goal\n",
    "\n"
   ]
  },
  {
   "cell_type": "code",
   "execution_count": null,
   "metadata": {
    "execution": {
     "iopub.execute_input": "2022-01-31T16:34:21.005144Z",
     "iopub.status.busy": "2022-01-31T16:34:21.004915Z",
     "iopub.status.idle": "2022-01-31T16:34:21.2937Z",
     "shell.execute_reply": "2022-01-31T16:34:21.292694Z",
     "shell.execute_reply.started": "2022-01-31T16:34:21.005118Z"
    },
    "id": "e84jSSvXZkm6",
    "outputId": "6f5023d8-418d-443c-8577-d72e990631e8"
   },
   "outputs": [],
   "source": [
    "sns.countplot(x= label)\n",
    "plt.show()"
   ]
  },
  {
   "cell_type": "markdown",
   "metadata": {
    "id": "nxt3qMdGbaYN"
   },
   "source": [
    "# Data Normalization\n",
    "hear we need to normalize data between 0,1 instead of 0,255 which nmuch better to make sure that all data have same importants"
   ]
  },
  {
   "cell_type": "code",
   "execution_count": null,
   "metadata": {
    "execution": {
     "iopub.execute_input": "2022-01-31T16:34:21.29516Z",
     "iopub.status.busy": "2022-01-31T16:34:21.294936Z",
     "iopub.status.idle": "2022-01-31T16:34:21.359492Z",
     "shell.execute_reply": "2022-01-31T16:34:21.358843Z",
     "shell.execute_reply.started": "2022-01-31T16:34:21.295134Z"
    },
    "id": "I7I5_bpebBlI"
   },
   "outputs": [],
   "source": [
    "train = train /255\n",
    "test  = test /255"
   ]
  },
  {
   "cell_type": "code",
   "execution_count": null,
   "metadata": {
    "execution": {
     "iopub.execute_input": "2022-01-31T16:34:21.360522Z",
     "iopub.status.busy": "2022-01-31T16:34:21.360322Z",
     "iopub.status.idle": "2022-01-31T16:34:21.451771Z",
     "shell.execute_reply": "2022-01-31T16:34:21.450863Z",
     "shell.execute_reply.started": "2022-01-31T16:34:21.360497Z"
    },
    "id": "PAjYjl-UtUo6"
   },
   "outputs": [],
   "source": [
    "train = np.array(train)\n",
    "test  = np.array(test)"
   ]
  },
  {
   "cell_type": "code",
   "execution_count": null,
   "metadata": {
    "execution": {
     "iopub.execute_input": "2022-01-31T16:34:21.453807Z",
     "iopub.status.busy": "2022-01-31T16:34:21.45303Z",
     "iopub.status.idle": "2022-01-31T16:34:21.45849Z",
     "shell.execute_reply": "2022-01-31T16:34:21.457554Z",
     "shell.execute_reply.started": "2022-01-31T16:34:21.453762Z"
    },
    "id": "s1awzfwmsw_B"
   },
   "outputs": [],
   "source": [
    "train = train.reshape(train.shape[0],28,28,1)\n",
    "test  = test.reshape(test.shape[0],28,28,1)"
   ]
  },
  {
   "cell_type": "code",
   "execution_count": null,
   "metadata": {
    "execution": {
     "iopub.execute_input": "2022-01-31T16:34:21.460055Z",
     "iopub.status.busy": "2022-01-31T16:34:21.459783Z",
     "iopub.status.idle": "2022-01-31T16:34:21.472125Z",
     "shell.execute_reply": "2022-01-31T16:34:21.471348Z",
     "shell.execute_reply.started": "2022-01-31T16:34:21.460024Z"
    },
    "id": "uuXCfQK6s_5t",
    "outputId": "681af3b5-084b-46ca-f9ba-28c4db6330ae"
   },
   "outputs": [],
   "source": [
    "print(train.shape)\n",
    "print(test.shape)"
   ]
  },
  {
   "cell_type": "code",
   "execution_count": null,
   "metadata": {
    "execution": {
     "iopub.execute_input": "2022-01-31T16:34:21.473908Z",
     "iopub.status.busy": "2022-01-31T16:34:21.473373Z",
     "iopub.status.idle": "2022-01-31T16:34:22.045717Z",
     "shell.execute_reply": "2022-01-31T16:34:22.044186Z",
     "shell.execute_reply.started": "2022-01-31T16:34:21.473872Z"
    },
    "id": "CVMhpR-4gqvZ",
    "outputId": "7d8ea243-5e7d-4081-a1f5-36f12a4d4f11"
   },
   "outputs": [],
   "source": [
    "image_x = random.randint(0,len(test))\n",
    "plt.imshow(np.reshape(train[image_x],(28,28)))\n",
    "plt.title('Train Image')\n",
    "plt.show()\n",
    "plt.imshow(np.reshape(test[image_x],(28,28)))\n",
    "plt.title('Test Image')\n",
    "plt.show()\n"
   ]
  },
  {
   "cell_type": "markdown",
   "metadata": {
    "id": "5O1NZpjrijnM"
   },
   "source": [
    "# Buliding Model"
   ]
  },
  {
   "cell_type": "code",
   "execution_count": null,
   "metadata": {
    "execution": {
     "iopub.execute_input": "2022-01-31T16:34:22.047405Z",
     "iopub.status.busy": "2022-01-31T16:34:22.047122Z",
     "iopub.status.idle": "2022-01-31T16:34:22.239759Z",
     "shell.execute_reply": "2022-01-31T16:34:22.238816Z",
     "shell.execute_reply.started": "2022-01-31T16:34:22.047373Z"
    },
    "id": "t32k5YoLiheV"
   },
   "outputs": [],
   "source": [
    "model = models.Sequential()\n",
    "model.add(layers.Conv2D(64,(3,3),padding ='Same',activation = 'relu',input_shape=(28,28,1)))\n",
    "model.add(Dropout(0.1))\n",
    "model.add(BatchNormalization())\n",
    "model.add(layers.MaxPooling2D(2,2))\n",
    "model.add(Dropout(0.3))\n",
    "model.add(layers.Conv2D(128,(3,3),padding ='same',activation='relu'))\n",
    "model.add(BatchNormalization())\n",
    "model.add(layers.MaxPooling2D(2,2))\n",
    "model.add(Dropout(0.3))\n",
    "model.add(layers.Conv2D(128,(3,3),padding ='same',activation='relu'))\n",
    "model.add(BatchNormalization())\n",
    "model.add(layers.MaxPooling2D(2,2))\n"
   ]
  },
  {
   "cell_type": "code",
   "execution_count": null,
   "metadata": {
    "execution": {
     "iopub.execute_input": "2022-01-31T16:34:22.24149Z",
     "iopub.status.busy": "2022-01-31T16:34:22.241175Z",
     "iopub.status.idle": "2022-01-31T16:34:22.25341Z",
     "shell.execute_reply": "2022-01-31T16:34:22.252537Z",
     "shell.execute_reply.started": "2022-01-31T16:34:22.241447Z"
    },
    "id": "xiisYER1hBQS",
    "outputId": "c4ba2de9-134f-4818-b5dd-6596f3ca86d8"
   },
   "outputs": [],
   "source": [
    "model.summary()"
   ]
  },
  {
   "cell_type": "code",
   "execution_count": null,
   "metadata": {
    "execution": {
     "iopub.execute_input": "2022-01-31T16:34:22.254974Z",
     "iopub.status.busy": "2022-01-31T16:34:22.254769Z",
     "iopub.status.idle": "2022-01-31T16:34:22.288535Z",
     "shell.execute_reply": "2022-01-31T16:34:22.287702Z",
     "shell.execute_reply.started": "2022-01-31T16:34:22.254948Z"
    },
    "id": "C_5qbHhmipHp"
   },
   "outputs": [],
   "source": [
    "model.add(layers.Flatten())\n",
    "model.add(layers.Dense(128, activation='relu'))\n",
    "model.add(Dropout(0.2))\n",
    "model.add(layers.Dense(25, activation ='softmax'))"
   ]
  },
  {
   "cell_type": "code",
   "execution_count": null,
   "metadata": {
    "execution": {
     "iopub.execute_input": "2022-01-31T16:34:22.291295Z",
     "iopub.status.busy": "2022-01-31T16:34:22.29049Z",
     "iopub.status.idle": "2022-01-31T16:34:22.304699Z",
     "shell.execute_reply": "2022-01-31T16:34:22.303598Z",
     "shell.execute_reply.started": "2022-01-31T16:34:22.291239Z"
    },
    "id": "4o1Zjq-sjzsI",
    "outputId": "68719723-907f-4197-af7a-aaa187e1de84"
   },
   "outputs": [],
   "source": [
    "model.summary()"
   ]
  },
  {
   "cell_type": "code",
   "execution_count": null,
   "metadata": {
    "execution": {
     "iopub.execute_input": "2022-01-31T16:34:22.30684Z",
     "iopub.status.busy": "2022-01-31T16:34:22.306183Z",
     "iopub.status.idle": "2022-01-31T16:34:22.322404Z",
     "shell.execute_reply": "2022-01-31T16:34:22.321735Z",
     "shell.execute_reply.started": "2022-01-31T16:34:22.30679Z"
    },
    "id": "27zpyCPuj3rz"
   },
   "outputs": [],
   "source": [
    "model.compile(optimizer='adam',\n",
    "              loss=tf.keras.losses.SparseCategoricalCrossentropy(from_logits=True),metrics=['accuracy'])\n"
   ]
  },
  {
   "cell_type": "code",
   "execution_count": null,
   "metadata": {
    "execution": {
     "iopub.execute_input": "2022-01-31T16:34:22.327061Z",
     "iopub.status.busy": "2022-01-31T16:34:22.326807Z",
     "iopub.status.idle": "2022-01-31T16:45:45.456385Z",
     "shell.execute_reply": "2022-01-31T16:45:45.455068Z",
     "shell.execute_reply.started": "2022-01-31T16:34:22.327031Z"
    },
    "id": "fcs5fAhtj-GR",
    "outputId": "24975b53-7d3d-4991-e009-7fd485eec0da"
   },
   "outputs": [],
   "source": [
    "history = model.fit(train,label,epochs=10,validation_data=(test,test_label))\n"
   ]
  },
  {
   "cell_type": "code",
   "execution_count": null,
   "metadata": {
    "execution": {
     "iopub.execute_input": "2022-01-31T16:45:45.459325Z",
     "iopub.status.busy": "2022-01-31T16:45:45.45882Z",
     "iopub.status.idle": "2022-01-31T16:45:50.514548Z",
     "shell.execute_reply": "2022-01-31T16:45:50.513589Z",
     "shell.execute_reply.started": "2022-01-31T16:45:45.459262Z"
    },
    "id": "fmDeBzza0s6s",
    "outputId": "e410528b-4e76-42b5-dd0b-c81ae4b77f74"
   },
   "outputs": [],
   "source": [
    "model.evaluate(test, test_label)"
   ]
  },
  {
   "cell_type": "markdown",
   "metadata": {
    "id": "yVF0SGc8fqmk"
   },
   "source": [
    "# predection"
   ]
  },
  {
   "cell_type": "code",
   "execution_count": null,
   "metadata": {
    "execution": {
     "iopub.execute_input": "2022-01-31T16:45:50.516848Z",
     "iopub.status.busy": "2022-01-31T16:45:50.515934Z",
     "iopub.status.idle": "2022-01-31T16:45:54.927469Z",
     "shell.execute_reply": "2022-01-31T16:45:54.92657Z",
     "shell.execute_reply.started": "2022-01-31T16:45:50.5168Z"
    },
    "id": "nD3-ufXgdtyg",
    "outputId": "b7f5870e-5df8-489c-ad3c-121d0958555c"
   },
   "outputs": [],
   "source": [
    "#get predection\n",
    "predictions = model.predict(test)\n",
    "predictions = np.argmax(predictions, axis = 1)\n",
    "predictions[5]"
   ]
  },
  {
   "cell_type": "code",
   "execution_count": null,
   "metadata": {
    "execution": {
     "iopub.execute_input": "2022-01-31T16:45:54.929368Z",
     "iopub.status.busy": "2022-01-31T16:45:54.929032Z",
     "iopub.status.idle": "2022-01-31T16:45:55.126319Z",
     "shell.execute_reply": "2022-01-31T16:45:55.125472Z",
     "shell.execute_reply.started": "2022-01-31T16:45:54.929323Z"
    },
    "id": "ocC144w-d8yy",
    "outputId": "1ca7a7d0-d8c8-470d-8cb6-213df68025bf"
   },
   "outputs": [],
   "source": [
    "plt.imshow(np.reshape(test[5],(28,28)))\n",
    "plt.title('Test Image')\n",
    "plt.show()"
   ]
  },
  {
   "cell_type": "code",
   "execution_count": null,
   "metadata": {
    "execution": {
     "iopub.execute_input": "2022-01-31T16:45:55.127902Z",
     "iopub.status.busy": "2022-01-31T16:45:55.127451Z",
     "iopub.status.idle": "2022-01-31T16:45:59.716594Z",
     "shell.execute_reply": "2022-01-31T16:45:59.715391Z",
     "shell.execute_reply.started": "2022-01-31T16:45:55.127861Z"
    },
    "id": "qjCm9uyhcUns",
    "outputId": "df897974-bded-49f1-edf9-fe1c8c28b21b"
   },
   "outputs": [],
   "source": [
    "plt.plot(history.history['accuracy'], label='accuracy')\n",
    "plt.plot(history.history['val_accuracy'], label = 'val_accuracy')\n",
    "plt.xlabel('Epoch')\n",
    "plt.ylabel('Accuracy')\n",
    "plt.ylim([0.5, 1])\n",
    "plt.legend(loc='lower right')\n",
    "\n",
    "test_loss, test_acc = model.evaluate(test,  test_label, verbose=2)"
   ]
  },
  {
   "cell_type": "code",
   "execution_count": null,
   "metadata": {},
   "outputs": [],
   "source": [
    "def getletters(result):\n",
    "    classLabels = { 0:'A',\n",
    "                  1:'B',\n",
    "                  2:'C',\n",
    "                  3:'D',\n",
    "                  4:'E',\n",
    "                  5:'F',\n",
    "                  6:'G',\n",
    "                  7:'H',\n",
    "                  8:'I',\n",
    "                  9:'J',\n",
    "                  10:'K',\n",
    "                  11:'L',\n",
    "                  12:'M',\n",
    "                  13:'N',\n",
    "                  14:'O',\n",
    "                  15:'P',\n",
    "                  16:'Q',\n",
    "                  17:'R',\n",
    "                  18:'S',\n",
    "                  19:'T',\n",
    "                  20:'U',\n",
    "                  21:'V',\n",
    "                  22:'W',\n",
    "                  23:'X',\n",
    "                  24:'Y',\n",
    "                  25:'Z'\n",
    "                  }\n",
    "    try:\n",
    "        res= int(result)\n",
    "        return classLabels[res]\n",
    "    except:\n",
    "        return \"Error\""
   ]
  },
  {
   "cell_type": "code",
   "execution_count": null,
   "metadata": {},
   "outputs": [],
   "source": [
    "cap = cv2.VideoCapture(0)\n",
    "\n",
    "while True:\n",
    "    ret, frame= cap.read()\n",
    "    \n",
    "    roi = frame[100:400, 320:620]\n",
    "    cv2.imshow('roi',roi)\n",
    "    roi = cv2.cvtColor(roi, cv2.COLOR_BGR2GREY)\n",
    "    roi = cv2.resize(roi, (28,28), interpolation = cv2.INTER_AREA)\n",
    "    \n",
    "    cv2.imshow('roi sacled and grey', roi)\n",
    "    copy = frame.copy()\n",
    "    cv2.rectangle(copy, (320,100), (620,400), (255,0,0), 5)\n",
    "    \n",
    "    roi = roi.reshape(1,28,28,1)\n",
    "    \n",
    "    result = str(model.predict_classes(roi, 1, verbose =0)[0])\n",
    "    cv2.putText(copy, getLetter(result), (300,100), cv2.FRONT_HERSHEY_COMPLEX, 2 (0,255,0),2)\n",
    "    cv2.imshow('frame',copy)\n",
    "    \n",
    "    if cv2.waitKey(1)==13:\n",
    "        break\n",
    "        \n",
    "cap.release()\n",
    "cv2.destroyAllWindows()"
   ]
  },
  {
   "cell_type": "code",
   "execution_count": null,
   "metadata": {},
   "outputs": [],
   "source": []
  }
 ],
 "metadata": {
  "kernelspec": {
   "display_name": "Python 3 (ipykernel)",
   "language": "python",
   "name": "python3"
  },
  "language_info": {
   "codemirror_mode": {
    "name": "ipython",
    "version": 3
   },
   "file_extension": ".py",
   "mimetype": "text/x-python",
   "name": "python",
   "nbconvert_exporter": "python",
   "pygments_lexer": "ipython3",
   "version": "3.10.6"
  }
 },
 "nbformat": 4,
 "nbformat_minor": 4
}
