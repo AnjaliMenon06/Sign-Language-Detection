{
 "cells": [
  {
   "cell_type": "markdown",
   "metadata": {
    "id": "zqrYqv734KAo"
   },
   "source": [
    "\n",
    "\n",
    "# Import libraries.\n"
   ]
  },
  {
   "cell_type": "code",
   "execution_count": 1,
   "metadata": {
    "execution": {
     "iopub.execute_input": "2022-01-31T16:33:32.219155Z",
     "iopub.status.busy": "2022-01-31T16:33:32.218518Z",
     "iopub.status.idle": "2022-01-31T16:33:39.339586Z",
     "shell.execute_reply": "2022-01-31T16:33:39.338748Z",
     "shell.execute_reply.started": "2022-01-31T16:33:32.219049Z"
    },
    "id": "1eb99db7"
   },
   "outputs": [],
   "source": [
    "# Core\n",
    "import numpy as np\n",
    "import pandas as pd \n",
    "import matplotlib.pyplot as plt \n",
    "import seaborn as sns;\n",
    "import random\n",
    "import tensorflow as tf\n",
    "from tensorflow import keras\n",
    "from tensorflow.keras import Sequential\n",
    "from tensorflow.keras.layers import Flatten, Dense,BatchNormalization,Dropout,Input\n",
    "from keras.models import Sequential, Model\n",
    "from keras.layers import Conv2D\n",
    "from tensorflow.keras import datasets, layers, models\n",
    "from keras.layers import Input, Conv2D, MaxPooling2D, UpSampling2D, concatenate, Conv2DTranspose, BatchNormalization, Dropout, Lambda\n",
    "from sklearn.metrics import plot_confusion_matrix ,classification_report\n",
    "from sklearn.metrics import accuracy_score, precision_score,recall_score,f1_score\n"
   ]
  },
  {
   "cell_type": "markdown",
   "metadata": {
    "id": "JE_1ztaHWq4h"
   },
   "source": [
    "# bussiness task\n",
    "The original MNIST image dataset of handwritten digits is a popular benchmark for image-based machine learning methods but researchers have renewed efforts to update it and develop drop-in replacements that are more challenging for computer vision and original for real-world applications. As noted in one recent replacement called the Fashion-MNIST dataset, the Zalando researchers quoted the startling claim that \"Most pairs of MNIST digits (784 total pixels per sample) can be distinguished pretty well by just one pixel\". To stimulate the community to develop more drop-in replacements, the Sign Language MNIST is presented here and follows the same CSV format with labels and pixel values in single rows. The American Sign Language letter database of hand gestures represent a multi-class problem with 24 classes of letters (excluding J and Z which require motion).\n",
    "\n",
    "The dataset format is patterned to match closely with the classic MNIST. Each training and test case represents a label (0-25) as a one-to-one map for each alphabetic letter A-Z (and no cases for 9=J or 25=Z because of gesture motions). The training data (27,455 cases) and test data (7172 cases) are approximately half the size of the standard MNIST but otherwise similar with a header row of label, pixel1,pixel2….pixel784 which represent a single 28x28 pixel image with grayscale values between 0-255. The original hand gesture image data represented multiple users repeating the gesture against different backgrounds. The Sign Language MNIST data came from greatly extending the small number (1704) of the color images included as not cropped around the hand region of interest. To create new data, an image pipeline was used based on ImageMagick and included cropping to hands-only, gray-scaling, resizing, and then creating at least 50+ variations to enlarge the quantity. The modification and expansion strategy was filters ('Mitchell', 'Robidoux', 'Catrom', 'Spline', 'Hermite'), along with 5% random pixelation, +/- 15% brightness/contrast, and finally 3 degrees rotation. Because of the tiny size of the images, these modifications effectively alter the resolution and class separation in interesting, controllable ways.\n",
    "\n",
    "This dataset was inspired by the Fashion-MNIST 2 and the machine learning pipeline for gestures by Sreehari 4.\n",
    "\n",
    "A robust visual recognition algorithm could provide not only new benchmarks that challenge modern machine learning methods such as Convolutional Neural Nets but also could pragmatically help the deaf and hard-of-hearing better communicate using computer vision applications. The National Institute on Deafness and other Communications Disorders (NIDCD) indicates that the 200-year-old American Sign Language is a complete, complex language (of which letter gestures are only part) but is the primary language for many deaf North Americans. ASL is the leading minority language in the U.S. after the \"big four\": Spanish, Italian, German, and French. One could implement computer vision in an inexpensive board computer like Raspberry Pi with OpenCV, and some Text-to-Speech to enabling improved and automated translation applications\n"
   ]
  },
  {
   "cell_type": "code",
   "execution_count": 2,
   "metadata": {
    "execution": {
     "iopub.execute_input": "2022-01-31T16:33:39.34125Z",
     "iopub.status.busy": "2022-01-31T16:33:39.34106Z",
     "iopub.status.idle": "2022-01-31T16:33:39.345063Z",
     "shell.execute_reply": "2022-01-31T16:33:39.344199Z",
     "shell.execute_reply.started": "2022-01-31T16:33:39.341227Z"
    },
    "id": "4DTeuvL_TphS"
   },
   "outputs": [],
   "source": [
    "seed = 42\n",
    "np.random.seed =seed"
   ]
  },
  {
   "cell_type": "markdown",
   "metadata": {
    "id": "k0v6p8vWuELn"
   },
   "source": [
    "# Reading Data"
   ]
  },
  {
   "cell_type": "code",
   "execution_count": 3,
   "metadata": {
    "execution": {
     "iopub.execute_input": "2022-01-31T16:33:39.347173Z",
     "iopub.status.busy": "2022-01-31T16:33:39.346424Z",
     "iopub.status.idle": "2022-01-31T16:33:39.365614Z",
     "shell.execute_reply": "2022-01-31T16:33:39.364961Z",
     "shell.execute_reply.started": "2022-01-31T16:33:39.347124Z"
    },
    "id": "SObF1eELXA7t"
   },
   "outputs": [],
   "source": [
    "train_path = '../input/sign-language-mnist/sign_mnist_train/sign_mnist_train.csv'\n",
    "test_path  = '../input/sign-language-mnist/sign_mnist_test/sign_mnist_test.csv'"
   ]
  },
  {
   "cell_type": "code",
   "execution_count": 6,
   "metadata": {
    "execution": {
     "iopub.execute_input": "2022-01-31T16:33:39.367963Z",
     "iopub.status.busy": "2022-01-31T16:33:39.367468Z",
     "iopub.status.idle": "2022-01-31T16:33:43.290616Z",
     "shell.execute_reply": "2022-01-31T16:33:43.289735Z",
     "shell.execute_reply.started": "2022-01-31T16:33:39.367909Z"
    },
    "id": "NpM1nVlgXA_U"
   },
   "outputs": [],
   "source": [
    "train = pd.read_csv('sign_mnist_train.csv')\n",
    "test  = pd.read_csv('sign_mnist_test.csv')"
   ]
  },
  {
   "cell_type": "code",
   "execution_count": 7,
   "metadata": {
    "execution": {
     "iopub.execute_input": "2022-01-31T16:33:43.292146Z",
     "iopub.status.busy": "2022-01-31T16:33:43.291909Z",
     "iopub.status.idle": "2022-01-31T16:33:43.320242Z",
     "shell.execute_reply": "2022-01-31T16:33:43.319227Z",
     "shell.execute_reply.started": "2022-01-31T16:33:43.292115Z"
    },
    "id": "Huq2FBfeXBHF",
    "outputId": "965bd84f-9178-45ef-91a0-ddfe24e36378"
   },
   "outputs": [
    {
     "data": {
      "text/html": [
       "<div>\n",
       "<style scoped>\n",
       "    .dataframe tbody tr th:only-of-type {\n",
       "        vertical-align: middle;\n",
       "    }\n",
       "\n",
       "    .dataframe tbody tr th {\n",
       "        vertical-align: top;\n",
       "    }\n",
       "\n",
       "    .dataframe thead th {\n",
       "        text-align: right;\n",
       "    }\n",
       "</style>\n",
       "<table border=\"1\" class=\"dataframe\">\n",
       "  <thead>\n",
       "    <tr style=\"text-align: right;\">\n",
       "      <th></th>\n",
       "      <th>label</th>\n",
       "      <th>pixel1</th>\n",
       "      <th>pixel2</th>\n",
       "      <th>pixel3</th>\n",
       "      <th>pixel4</th>\n",
       "      <th>pixel5</th>\n",
       "      <th>pixel6</th>\n",
       "      <th>pixel7</th>\n",
       "      <th>pixel8</th>\n",
       "      <th>pixel9</th>\n",
       "      <th>...</th>\n",
       "      <th>pixel775</th>\n",
       "      <th>pixel776</th>\n",
       "      <th>pixel777</th>\n",
       "      <th>pixel778</th>\n",
       "      <th>pixel779</th>\n",
       "      <th>pixel780</th>\n",
       "      <th>pixel781</th>\n",
       "      <th>pixel782</th>\n",
       "      <th>pixel783</th>\n",
       "      <th>pixel784</th>\n",
       "    </tr>\n",
       "  </thead>\n",
       "  <tbody>\n",
       "    <tr>\n",
       "      <th>0</th>\n",
       "      <td>3</td>\n",
       "      <td>107</td>\n",
       "      <td>118</td>\n",
       "      <td>127</td>\n",
       "      <td>134</td>\n",
       "      <td>139</td>\n",
       "      <td>143</td>\n",
       "      <td>146</td>\n",
       "      <td>150</td>\n",
       "      <td>153</td>\n",
       "      <td>...</td>\n",
       "      <td>207</td>\n",
       "      <td>207</td>\n",
       "      <td>207</td>\n",
       "      <td>207</td>\n",
       "      <td>206</td>\n",
       "      <td>206</td>\n",
       "      <td>206</td>\n",
       "      <td>204</td>\n",
       "      <td>203</td>\n",
       "      <td>202</td>\n",
       "    </tr>\n",
       "    <tr>\n",
       "      <th>1</th>\n",
       "      <td>6</td>\n",
       "      <td>155</td>\n",
       "      <td>157</td>\n",
       "      <td>156</td>\n",
       "      <td>156</td>\n",
       "      <td>156</td>\n",
       "      <td>157</td>\n",
       "      <td>156</td>\n",
       "      <td>158</td>\n",
       "      <td>158</td>\n",
       "      <td>...</td>\n",
       "      <td>69</td>\n",
       "      <td>149</td>\n",
       "      <td>128</td>\n",
       "      <td>87</td>\n",
       "      <td>94</td>\n",
       "      <td>163</td>\n",
       "      <td>175</td>\n",
       "      <td>103</td>\n",
       "      <td>135</td>\n",
       "      <td>149</td>\n",
       "    </tr>\n",
       "    <tr>\n",
       "      <th>2</th>\n",
       "      <td>2</td>\n",
       "      <td>187</td>\n",
       "      <td>188</td>\n",
       "      <td>188</td>\n",
       "      <td>187</td>\n",
       "      <td>187</td>\n",
       "      <td>186</td>\n",
       "      <td>187</td>\n",
       "      <td>188</td>\n",
       "      <td>187</td>\n",
       "      <td>...</td>\n",
       "      <td>202</td>\n",
       "      <td>201</td>\n",
       "      <td>200</td>\n",
       "      <td>199</td>\n",
       "      <td>198</td>\n",
       "      <td>199</td>\n",
       "      <td>198</td>\n",
       "      <td>195</td>\n",
       "      <td>194</td>\n",
       "      <td>195</td>\n",
       "    </tr>\n",
       "    <tr>\n",
       "      <th>3</th>\n",
       "      <td>2</td>\n",
       "      <td>211</td>\n",
       "      <td>211</td>\n",
       "      <td>212</td>\n",
       "      <td>212</td>\n",
       "      <td>211</td>\n",
       "      <td>210</td>\n",
       "      <td>211</td>\n",
       "      <td>210</td>\n",
       "      <td>210</td>\n",
       "      <td>...</td>\n",
       "      <td>235</td>\n",
       "      <td>234</td>\n",
       "      <td>233</td>\n",
       "      <td>231</td>\n",
       "      <td>230</td>\n",
       "      <td>226</td>\n",
       "      <td>225</td>\n",
       "      <td>222</td>\n",
       "      <td>229</td>\n",
       "      <td>163</td>\n",
       "    </tr>\n",
       "    <tr>\n",
       "      <th>4</th>\n",
       "      <td>13</td>\n",
       "      <td>164</td>\n",
       "      <td>167</td>\n",
       "      <td>170</td>\n",
       "      <td>172</td>\n",
       "      <td>176</td>\n",
       "      <td>179</td>\n",
       "      <td>180</td>\n",
       "      <td>184</td>\n",
       "      <td>185</td>\n",
       "      <td>...</td>\n",
       "      <td>92</td>\n",
       "      <td>105</td>\n",
       "      <td>105</td>\n",
       "      <td>108</td>\n",
       "      <td>133</td>\n",
       "      <td>163</td>\n",
       "      <td>157</td>\n",
       "      <td>163</td>\n",
       "      <td>164</td>\n",
       "      <td>179</td>\n",
       "    </tr>\n",
       "    <tr>\n",
       "      <th>5</th>\n",
       "      <td>16</td>\n",
       "      <td>161</td>\n",
       "      <td>168</td>\n",
       "      <td>172</td>\n",
       "      <td>173</td>\n",
       "      <td>178</td>\n",
       "      <td>184</td>\n",
       "      <td>189</td>\n",
       "      <td>193</td>\n",
       "      <td>196</td>\n",
       "      <td>...</td>\n",
       "      <td>76</td>\n",
       "      <td>74</td>\n",
       "      <td>68</td>\n",
       "      <td>62</td>\n",
       "      <td>53</td>\n",
       "      <td>55</td>\n",
       "      <td>48</td>\n",
       "      <td>238</td>\n",
       "      <td>255</td>\n",
       "      <td>255</td>\n",
       "    </tr>\n",
       "    <tr>\n",
       "      <th>6</th>\n",
       "      <td>8</td>\n",
       "      <td>134</td>\n",
       "      <td>134</td>\n",
       "      <td>135</td>\n",
       "      <td>135</td>\n",
       "      <td>136</td>\n",
       "      <td>137</td>\n",
       "      <td>137</td>\n",
       "      <td>138</td>\n",
       "      <td>138</td>\n",
       "      <td>...</td>\n",
       "      <td>109</td>\n",
       "      <td>102</td>\n",
       "      <td>91</td>\n",
       "      <td>65</td>\n",
       "      <td>138</td>\n",
       "      <td>189</td>\n",
       "      <td>179</td>\n",
       "      <td>181</td>\n",
       "      <td>181</td>\n",
       "      <td>179</td>\n",
       "    </tr>\n",
       "    <tr>\n",
       "      <th>7</th>\n",
       "      <td>22</td>\n",
       "      <td>114</td>\n",
       "      <td>42</td>\n",
       "      <td>74</td>\n",
       "      <td>99</td>\n",
       "      <td>104</td>\n",
       "      <td>109</td>\n",
       "      <td>117</td>\n",
       "      <td>127</td>\n",
       "      <td>142</td>\n",
       "      <td>...</td>\n",
       "      <td>214</td>\n",
       "      <td>218</td>\n",
       "      <td>220</td>\n",
       "      <td>223</td>\n",
       "      <td>223</td>\n",
       "      <td>225</td>\n",
       "      <td>227</td>\n",
       "      <td>227</td>\n",
       "      <td>228</td>\n",
       "      <td>228</td>\n",
       "    </tr>\n",
       "    <tr>\n",
       "      <th>8</th>\n",
       "      <td>3</td>\n",
       "      <td>169</td>\n",
       "      <td>174</td>\n",
       "      <td>176</td>\n",
       "      <td>180</td>\n",
       "      <td>183</td>\n",
       "      <td>185</td>\n",
       "      <td>187</td>\n",
       "      <td>188</td>\n",
       "      <td>190</td>\n",
       "      <td>...</td>\n",
       "      <td>119</td>\n",
       "      <td>118</td>\n",
       "      <td>123</td>\n",
       "      <td>120</td>\n",
       "      <td>118</td>\n",
       "      <td>114</td>\n",
       "      <td>94</td>\n",
       "      <td>74</td>\n",
       "      <td>61</td>\n",
       "      <td>57</td>\n",
       "    </tr>\n",
       "    <tr>\n",
       "      <th>9</th>\n",
       "      <td>3</td>\n",
       "      <td>189</td>\n",
       "      <td>189</td>\n",
       "      <td>189</td>\n",
       "      <td>190</td>\n",
       "      <td>190</td>\n",
       "      <td>191</td>\n",
       "      <td>190</td>\n",
       "      <td>190</td>\n",
       "      <td>190</td>\n",
       "      <td>...</td>\n",
       "      <td>13</td>\n",
       "      <td>53</td>\n",
       "      <td>200</td>\n",
       "      <td>204</td>\n",
       "      <td>201</td>\n",
       "      <td>201</td>\n",
       "      <td>193</td>\n",
       "      <td>175</td>\n",
       "      <td>178</td>\n",
       "      <td>156</td>\n",
       "    </tr>\n",
       "  </tbody>\n",
       "</table>\n",
       "<p>10 rows × 785 columns</p>\n",
       "</div>"
      ],
      "text/plain": [
       "   label  pixel1  pixel2  pixel3  pixel4  pixel5  pixel6  pixel7  pixel8  \\\n",
       "0      3     107     118     127     134     139     143     146     150   \n",
       "1      6     155     157     156     156     156     157     156     158   \n",
       "2      2     187     188     188     187     187     186     187     188   \n",
       "3      2     211     211     212     212     211     210     211     210   \n",
       "4     13     164     167     170     172     176     179     180     184   \n",
       "5     16     161     168     172     173     178     184     189     193   \n",
       "6      8     134     134     135     135     136     137     137     138   \n",
       "7     22     114      42      74      99     104     109     117     127   \n",
       "8      3     169     174     176     180     183     185     187     188   \n",
       "9      3     189     189     189     190     190     191     190     190   \n",
       "\n",
       "   pixel9  ...  pixel775  pixel776  pixel777  pixel778  pixel779  pixel780  \\\n",
       "0     153  ...       207       207       207       207       206       206   \n",
       "1     158  ...        69       149       128        87        94       163   \n",
       "2     187  ...       202       201       200       199       198       199   \n",
       "3     210  ...       235       234       233       231       230       226   \n",
       "4     185  ...        92       105       105       108       133       163   \n",
       "5     196  ...        76        74        68        62        53        55   \n",
       "6     138  ...       109       102        91        65       138       189   \n",
       "7     142  ...       214       218       220       223       223       225   \n",
       "8     190  ...       119       118       123       120       118       114   \n",
       "9     190  ...        13        53       200       204       201       201   \n",
       "\n",
       "   pixel781  pixel782  pixel783  pixel784  \n",
       "0       206       204       203       202  \n",
       "1       175       103       135       149  \n",
       "2       198       195       194       195  \n",
       "3       225       222       229       163  \n",
       "4       157       163       164       179  \n",
       "5        48       238       255       255  \n",
       "6       179       181       181       179  \n",
       "7       227       227       228       228  \n",
       "8        94        74        61        57  \n",
       "9       193       175       178       156  \n",
       "\n",
       "[10 rows x 785 columns]"
      ]
     },
     "execution_count": 7,
     "metadata": {},
     "output_type": "execute_result"
    }
   ],
   "source": [
    "train.head(10)"
   ]
  },
  {
   "cell_type": "code",
   "execution_count": 8,
   "metadata": {
    "execution": {
     "iopub.execute_input": "2022-01-31T16:33:43.322535Z",
     "iopub.status.busy": "2022-01-31T16:33:43.321614Z",
     "iopub.status.idle": "2022-01-31T16:33:43.340402Z",
     "shell.execute_reply": "2022-01-31T16:33:43.339397Z",
     "shell.execute_reply.started": "2022-01-31T16:33:43.322488Z"
    },
    "id": "DymMZPLtX6oI",
    "outputId": "d59456c7-a472-45d1-ec10-8ee4ae69cdb7"
   },
   "outputs": [
    {
     "data": {
      "text/html": [
       "<div>\n",
       "<style scoped>\n",
       "    .dataframe tbody tr th:only-of-type {\n",
       "        vertical-align: middle;\n",
       "    }\n",
       "\n",
       "    .dataframe tbody tr th {\n",
       "        vertical-align: top;\n",
       "    }\n",
       "\n",
       "    .dataframe thead th {\n",
       "        text-align: right;\n",
       "    }\n",
       "</style>\n",
       "<table border=\"1\" class=\"dataframe\">\n",
       "  <thead>\n",
       "    <tr style=\"text-align: right;\">\n",
       "      <th></th>\n",
       "      <th>label</th>\n",
       "      <th>pixel1</th>\n",
       "      <th>pixel2</th>\n",
       "      <th>pixel3</th>\n",
       "      <th>pixel4</th>\n",
       "      <th>pixel5</th>\n",
       "      <th>pixel6</th>\n",
       "      <th>pixel7</th>\n",
       "      <th>pixel8</th>\n",
       "      <th>pixel9</th>\n",
       "      <th>...</th>\n",
       "      <th>pixel775</th>\n",
       "      <th>pixel776</th>\n",
       "      <th>pixel777</th>\n",
       "      <th>pixel778</th>\n",
       "      <th>pixel779</th>\n",
       "      <th>pixel780</th>\n",
       "      <th>pixel781</th>\n",
       "      <th>pixel782</th>\n",
       "      <th>pixel783</th>\n",
       "      <th>pixel784</th>\n",
       "    </tr>\n",
       "  </thead>\n",
       "  <tbody>\n",
       "    <tr>\n",
       "      <th>0</th>\n",
       "      <td>6</td>\n",
       "      <td>149</td>\n",
       "      <td>149</td>\n",
       "      <td>150</td>\n",
       "      <td>150</td>\n",
       "      <td>150</td>\n",
       "      <td>151</td>\n",
       "      <td>151</td>\n",
       "      <td>150</td>\n",
       "      <td>151</td>\n",
       "      <td>...</td>\n",
       "      <td>138</td>\n",
       "      <td>148</td>\n",
       "      <td>127</td>\n",
       "      <td>89</td>\n",
       "      <td>82</td>\n",
       "      <td>96</td>\n",
       "      <td>106</td>\n",
       "      <td>112</td>\n",
       "      <td>120</td>\n",
       "      <td>107</td>\n",
       "    </tr>\n",
       "    <tr>\n",
       "      <th>1</th>\n",
       "      <td>5</td>\n",
       "      <td>126</td>\n",
       "      <td>128</td>\n",
       "      <td>131</td>\n",
       "      <td>132</td>\n",
       "      <td>133</td>\n",
       "      <td>134</td>\n",
       "      <td>135</td>\n",
       "      <td>135</td>\n",
       "      <td>136</td>\n",
       "      <td>...</td>\n",
       "      <td>47</td>\n",
       "      <td>104</td>\n",
       "      <td>194</td>\n",
       "      <td>183</td>\n",
       "      <td>186</td>\n",
       "      <td>184</td>\n",
       "      <td>184</td>\n",
       "      <td>184</td>\n",
       "      <td>182</td>\n",
       "      <td>180</td>\n",
       "    </tr>\n",
       "    <tr>\n",
       "      <th>2</th>\n",
       "      <td>10</td>\n",
       "      <td>85</td>\n",
       "      <td>88</td>\n",
       "      <td>92</td>\n",
       "      <td>96</td>\n",
       "      <td>105</td>\n",
       "      <td>123</td>\n",
       "      <td>135</td>\n",
       "      <td>143</td>\n",
       "      <td>147</td>\n",
       "      <td>...</td>\n",
       "      <td>68</td>\n",
       "      <td>166</td>\n",
       "      <td>242</td>\n",
       "      <td>227</td>\n",
       "      <td>230</td>\n",
       "      <td>227</td>\n",
       "      <td>226</td>\n",
       "      <td>225</td>\n",
       "      <td>224</td>\n",
       "      <td>222</td>\n",
       "    </tr>\n",
       "    <tr>\n",
       "      <th>3</th>\n",
       "      <td>0</td>\n",
       "      <td>203</td>\n",
       "      <td>205</td>\n",
       "      <td>207</td>\n",
       "      <td>206</td>\n",
       "      <td>207</td>\n",
       "      <td>209</td>\n",
       "      <td>210</td>\n",
       "      <td>209</td>\n",
       "      <td>210</td>\n",
       "      <td>...</td>\n",
       "      <td>154</td>\n",
       "      <td>248</td>\n",
       "      <td>247</td>\n",
       "      <td>248</td>\n",
       "      <td>253</td>\n",
       "      <td>236</td>\n",
       "      <td>230</td>\n",
       "      <td>240</td>\n",
       "      <td>253</td>\n",
       "      <td>255</td>\n",
       "    </tr>\n",
       "    <tr>\n",
       "      <th>4</th>\n",
       "      <td>3</td>\n",
       "      <td>188</td>\n",
       "      <td>191</td>\n",
       "      <td>193</td>\n",
       "      <td>195</td>\n",
       "      <td>199</td>\n",
       "      <td>201</td>\n",
       "      <td>202</td>\n",
       "      <td>203</td>\n",
       "      <td>203</td>\n",
       "      <td>...</td>\n",
       "      <td>26</td>\n",
       "      <td>40</td>\n",
       "      <td>64</td>\n",
       "      <td>48</td>\n",
       "      <td>29</td>\n",
       "      <td>46</td>\n",
       "      <td>49</td>\n",
       "      <td>46</td>\n",
       "      <td>46</td>\n",
       "      <td>53</td>\n",
       "    </tr>\n",
       "    <tr>\n",
       "      <th>5</th>\n",
       "      <td>21</td>\n",
       "      <td>72</td>\n",
       "      <td>79</td>\n",
       "      <td>87</td>\n",
       "      <td>101</td>\n",
       "      <td>115</td>\n",
       "      <td>124</td>\n",
       "      <td>131</td>\n",
       "      <td>135</td>\n",
       "      <td>139</td>\n",
       "      <td>...</td>\n",
       "      <td>187</td>\n",
       "      <td>189</td>\n",
       "      <td>192</td>\n",
       "      <td>193</td>\n",
       "      <td>194</td>\n",
       "      <td>194</td>\n",
       "      <td>194</td>\n",
       "      <td>195</td>\n",
       "      <td>195</td>\n",
       "      <td>194</td>\n",
       "    </tr>\n",
       "    <tr>\n",
       "      <th>6</th>\n",
       "      <td>10</td>\n",
       "      <td>93</td>\n",
       "      <td>100</td>\n",
       "      <td>112</td>\n",
       "      <td>118</td>\n",
       "      <td>123</td>\n",
       "      <td>127</td>\n",
       "      <td>131</td>\n",
       "      <td>133</td>\n",
       "      <td>136</td>\n",
       "      <td>...</td>\n",
       "      <td>173</td>\n",
       "      <td>175</td>\n",
       "      <td>177</td>\n",
       "      <td>178</td>\n",
       "      <td>180</td>\n",
       "      <td>180</td>\n",
       "      <td>181</td>\n",
       "      <td>181</td>\n",
       "      <td>181</td>\n",
       "      <td>183</td>\n",
       "    </tr>\n",
       "    <tr>\n",
       "      <th>7</th>\n",
       "      <td>14</td>\n",
       "      <td>177</td>\n",
       "      <td>177</td>\n",
       "      <td>177</td>\n",
       "      <td>177</td>\n",
       "      <td>177</td>\n",
       "      <td>178</td>\n",
       "      <td>179</td>\n",
       "      <td>179</td>\n",
       "      <td>178</td>\n",
       "      <td>...</td>\n",
       "      <td>232</td>\n",
       "      <td>223</td>\n",
       "      <td>224</td>\n",
       "      <td>224</td>\n",
       "      <td>223</td>\n",
       "      <td>221</td>\n",
       "      <td>221</td>\n",
       "      <td>221</td>\n",
       "      <td>220</td>\n",
       "      <td>219</td>\n",
       "    </tr>\n",
       "    <tr>\n",
       "      <th>8</th>\n",
       "      <td>3</td>\n",
       "      <td>191</td>\n",
       "      <td>194</td>\n",
       "      <td>196</td>\n",
       "      <td>198</td>\n",
       "      <td>201</td>\n",
       "      <td>203</td>\n",
       "      <td>204</td>\n",
       "      <td>205</td>\n",
       "      <td>205</td>\n",
       "      <td>...</td>\n",
       "      <td>43</td>\n",
       "      <td>57</td>\n",
       "      <td>78</td>\n",
       "      <td>64</td>\n",
       "      <td>47</td>\n",
       "      <td>62</td>\n",
       "      <td>65</td>\n",
       "      <td>62</td>\n",
       "      <td>62</td>\n",
       "      <td>68</td>\n",
       "    </tr>\n",
       "    <tr>\n",
       "      <th>9</th>\n",
       "      <td>7</td>\n",
       "      <td>171</td>\n",
       "      <td>172</td>\n",
       "      <td>172</td>\n",
       "      <td>173</td>\n",
       "      <td>173</td>\n",
       "      <td>173</td>\n",
       "      <td>173</td>\n",
       "      <td>173</td>\n",
       "      <td>172</td>\n",
       "      <td>...</td>\n",
       "      <td>199</td>\n",
       "      <td>199</td>\n",
       "      <td>198</td>\n",
       "      <td>196</td>\n",
       "      <td>195</td>\n",
       "      <td>194</td>\n",
       "      <td>183</td>\n",
       "      <td>85</td>\n",
       "      <td>65</td>\n",
       "      <td>124</td>\n",
       "    </tr>\n",
       "  </tbody>\n",
       "</table>\n",
       "<p>10 rows × 785 columns</p>\n",
       "</div>"
      ],
      "text/plain": [
       "   label  pixel1  pixel2  pixel3  pixel4  pixel5  pixel6  pixel7  pixel8  \\\n",
       "0      6     149     149     150     150     150     151     151     150   \n",
       "1      5     126     128     131     132     133     134     135     135   \n",
       "2     10      85      88      92      96     105     123     135     143   \n",
       "3      0     203     205     207     206     207     209     210     209   \n",
       "4      3     188     191     193     195     199     201     202     203   \n",
       "5     21      72      79      87     101     115     124     131     135   \n",
       "6     10      93     100     112     118     123     127     131     133   \n",
       "7     14     177     177     177     177     177     178     179     179   \n",
       "8      3     191     194     196     198     201     203     204     205   \n",
       "9      7     171     172     172     173     173     173     173     173   \n",
       "\n",
       "   pixel9  ...  pixel775  pixel776  pixel777  pixel778  pixel779  pixel780  \\\n",
       "0     151  ...       138       148       127        89        82        96   \n",
       "1     136  ...        47       104       194       183       186       184   \n",
       "2     147  ...        68       166       242       227       230       227   \n",
       "3     210  ...       154       248       247       248       253       236   \n",
       "4     203  ...        26        40        64        48        29        46   \n",
       "5     139  ...       187       189       192       193       194       194   \n",
       "6     136  ...       173       175       177       178       180       180   \n",
       "7     178  ...       232       223       224       224       223       221   \n",
       "8     205  ...        43        57        78        64        47        62   \n",
       "9     172  ...       199       199       198       196       195       194   \n",
       "\n",
       "   pixel781  pixel782  pixel783  pixel784  \n",
       "0       106       112       120       107  \n",
       "1       184       184       182       180  \n",
       "2       226       225       224       222  \n",
       "3       230       240       253       255  \n",
       "4        49        46        46        53  \n",
       "5       194       195       195       194  \n",
       "6       181       181       181       183  \n",
       "7       221       221       220       219  \n",
       "8        65        62        62        68  \n",
       "9       183        85        65       124  \n",
       "\n",
       "[10 rows x 785 columns]"
      ]
     },
     "execution_count": 8,
     "metadata": {},
     "output_type": "execute_result"
    }
   ],
   "source": [
    "test.head(10)"
   ]
  },
  {
   "cell_type": "markdown",
   "metadata": {
    "id": "2Z1NuzUXCq_i"
   },
   "source": [
    "# Data Cleaning\n",
    "1.   Check Null data \n",
    "2.   Drop Non Important Data\n",
    "3.   check douplicate data \n"
   ]
  },
  {
   "cell_type": "code",
   "execution_count": 9,
   "metadata": {
    "execution": {
     "iopub.execute_input": "2022-01-31T16:33:43.341799Z",
     "iopub.status.busy": "2022-01-31T16:33:43.341554Z",
     "iopub.status.idle": "2022-01-31T16:34:12.198686Z",
     "shell.execute_reply": "2022-01-31T16:34:12.197702Z",
     "shell.execute_reply.started": "2022-01-31T16:33:43.34177Z"
    },
    "id": "3t8yVOTdYXnB",
    "outputId": "78fb160e-e250-4ce2-ab1f-b95b416ed254"
   },
   "outputs": [
    {
     "data": {
      "text/plain": [
       "<AxesSubplot:>"
      ]
     },
     "execution_count": 9,
     "metadata": {},
     "output_type": "execute_result"
    },
    {
     "data": {
      "image/png": "[encoded data removed]",
      "text/plain": [
       "<Figure size 432x288 with 2 Axes>"
      ]
     },
     "metadata": {
      "needs_background": "light"
     },
     "output_type": "display_data"
    }
   ],
   "source": [
    "cols =train.columns\n",
    "colours = ['#747BA1', '#FFBA77'] # specify the orange  - yellow is missing. blue is not missing.\n",
    "sns.heatmap(train[cols].isnull(), cmap=sns.color_palette(colours))"
   ]
  },
  {
   "cell_type": "code",
   "execution_count": 10,
   "metadata": {
    "execution": {
     "iopub.execute_input": "2022-01-31T16:34:12.200087Z",
     "iopub.status.busy": "2022-01-31T16:34:12.199862Z",
     "iopub.status.idle": "2022-01-31T16:34:20.103174Z",
     "shell.execute_reply": "2022-01-31T16:34:20.101977Z",
     "shell.execute_reply.started": "2022-01-31T16:34:12.200052Z"
    },
    "id": "emopGF3gYlH1",
    "outputId": "68ae2484-8583-4464-9ceb-1ae3e7b89c62"
   },
   "outputs": [
    {
     "data": {
      "text/plain": [
       "<AxesSubplot:>"
      ]
     },
     "execution_count": 10,
     "metadata": {},
     "output_type": "execute_result"
    },
    {
     "data": {
      "image/png": "[encoded data removed]",
      "text/plain": [
       "<Figure size 432x288 with 2 Axes>"
      ]
     },
     "metadata": {
      "needs_background": "light"
     },
     "output_type": "display_data"
    }
   ],
   "source": [
    "cols =test.columns\n",
    "colours = ['#747BA1', '#FFBA77'] # specify the orange  - yellow is missing. blue is not missing.\n",
    "sns.heatmap(test[cols].isnull(), cmap=sns.color_palette(colours))"
   ]
  },
  {
   "cell_type": "code",
   "execution_count": 11,
   "metadata": {
    "execution": {
     "iopub.execute_input": "2022-01-31T16:34:20.105008Z",
     "iopub.status.busy": "2022-01-31T16:34:20.104769Z",
     "iopub.status.idle": "2022-01-31T16:34:20.141187Z",
     "shell.execute_reply": "2022-01-31T16:34:20.140153Z",
     "shell.execute_reply.started": "2022-01-31T16:34:20.104981Z"
    },
    "id": "BxaepJcRY-yT",
    "outputId": "ce4e5be2-fbd6-43db-a948-df2ea589c4a4"
   },
   "outputs": [
    {
     "data": {
      "text/plain": [
       "label       0\n",
       "pixel517    0\n",
       "pixel518    0\n",
       "pixel519    0\n",
       "pixel520    0\n",
       "           ..\n",
       "pixel264    0\n",
       "pixel265    0\n",
       "pixel266    0\n",
       "pixel268    0\n",
       "pixel784    0\n",
       "Length: 785, dtype: int64"
      ]
     },
     "execution_count": 11,
     "metadata": {},
     "output_type": "execute_result"
    }
   ],
   "source": [
    "train.isna().sum().sort_values(ascending=True)"
   ]
  },
  {
   "cell_type": "code",
   "execution_count": 12,
   "metadata": {
    "execution": {
     "iopub.execute_input": "2022-01-31T16:34:20.145143Z",
     "iopub.status.busy": "2022-01-31T16:34:20.1449Z",
     "iopub.status.idle": "2022-01-31T16:34:20.164481Z",
     "shell.execute_reply": "2022-01-31T16:34:20.163635Z",
     "shell.execute_reply.started": "2022-01-31T16:34:20.145116Z"
    },
    "id": "HKb53aI6ZYbK",
    "outputId": "cbdb4bd8-e33d-48d9-8b6d-2034eed95105"
   },
   "outputs": [
    {
     "data": {
      "text/plain": [
       "label       0\n",
       "pixel517    0\n",
       "pixel518    0\n",
       "pixel519    0\n",
       "pixel520    0\n",
       "           ..\n",
       "pixel264    0\n",
       "pixel265    0\n",
       "pixel266    0\n",
       "pixel268    0\n",
       "pixel784    0\n",
       "Length: 785, dtype: int64"
      ]
     },
     "execution_count": 12,
     "metadata": {},
     "output_type": "execute_result"
    }
   ],
   "source": [
    "test.isna().sum().sort_values(ascending=True)"
   ]
  },
  {
   "cell_type": "code",
   "execution_count": 13,
   "metadata": {
    "execution": {
     "iopub.execute_input": "2022-01-31T16:34:20.167795Z",
     "iopub.status.busy": "2022-01-31T16:34:20.167512Z",
     "iopub.status.idle": "2022-01-31T16:34:20.880796Z",
     "shell.execute_reply": "2022-01-31T16:34:20.879775Z",
     "shell.execute_reply.started": "2022-01-31T16:34:20.167765Z"
    },
    "id": "22-GJuPaYmvC"
   },
   "outputs": [],
   "source": [
    "train = train.drop_duplicates()\n",
    "test  = test.drop_duplicates()"
   ]
  },
  {
   "cell_type": "code",
   "execution_count": 14,
   "metadata": {
    "execution": {
     "iopub.execute_input": "2022-01-31T16:34:20.882803Z",
     "iopub.status.busy": "2022-01-31T16:34:20.882059Z",
     "iopub.status.idle": "2022-01-31T16:34:20.886536Z",
     "shell.execute_reply": "2022-01-31T16:34:20.885652Z",
     "shell.execute_reply.started": "2022-01-31T16:34:20.88277Z"
    },
    "id": "hvsEYcDZZhpK"
   },
   "outputs": [],
   "source": [
    "# here in this part we will ckeck shape of data so we want to reshape data to be (x,28,28,1)"
   ]
  },
  {
   "cell_type": "code",
   "execution_count": 15,
   "metadata": {
    "execution": {
     "iopub.execute_input": "2022-01-31T16:34:20.888159Z",
     "iopub.status.busy": "2022-01-31T16:34:20.88782Z",
     "iopub.status.idle": "2022-01-31T16:34:20.899059Z",
     "shell.execute_reply": "2022-01-31T16:34:20.898049Z",
     "shell.execute_reply.started": "2022-01-31T16:34:20.888124Z"
    },
    "id": "gzNmzMAvZ7EA",
    "outputId": "209404e8-56c1-41c7-90ea-ecb642c7578b"
   },
   "outputs": [
    {
     "name": "stdout",
     "output_type": "stream",
     "text": [
      "(27455, 785)\n",
      "(7172, 785)\n"
     ]
    }
   ],
   "source": [
    "print(train.shape)\n",
    "print(test.shape)"
   ]
  },
  {
   "cell_type": "code",
   "execution_count": 16,
   "metadata": {
    "execution": {
     "iopub.execute_input": "2022-01-31T16:34:20.900625Z",
     "iopub.status.busy": "2022-01-31T16:34:20.900352Z",
     "iopub.status.idle": "2022-01-31T16:34:20.962447Z",
     "shell.execute_reply": "2022-01-31T16:34:20.961429Z",
     "shell.execute_reply.started": "2022-01-31T16:34:20.900593Z"
    },
    "id": "Jeozq6DoZ7L-"
   },
   "outputs": [],
   "source": [
    "label = train['label']\n",
    "train = train.drop(['label'],axis=1)"
   ]
  },
  {
   "cell_type": "code",
   "execution_count": 17,
   "metadata": {
    "execution": {
     "iopub.execute_input": "2022-01-31T16:34:20.96415Z",
     "iopub.status.busy": "2022-01-31T16:34:20.963827Z",
     "iopub.status.idle": "2022-01-31T16:34:20.989749Z",
     "shell.execute_reply": "2022-01-31T16:34:20.988848Z",
     "shell.execute_reply.started": "2022-01-31T16:34:20.964106Z"
    },
    "id": "TRxd7KxtZ7Q3"
   },
   "outputs": [],
   "source": [
    "test_label = test['label']\n",
    "test = test.drop(['label'],axis=1)"
   ]
  },
  {
   "cell_type": "code",
   "execution_count": 18,
   "metadata": {
    "execution": {
     "iopub.execute_input": "2022-01-31T16:34:20.991185Z",
     "iopub.status.busy": "2022-01-31T16:34:20.990931Z",
     "iopub.status.idle": "2022-01-31T16:34:21.003481Z",
     "shell.execute_reply": "2022-01-31T16:34:21.002351Z",
     "shell.execute_reply.started": "2022-01-31T16:34:20.991155Z"
    },
    "id": "CL5-oMYask4g",
    "outputId": "eb58d004-0e6c-4dbd-fb64-8d7dff8d684c"
   },
   "outputs": [
    {
     "name": "stdout",
     "output_type": "stream",
     "text": [
      "(27455, 784)\n",
      "(7172, 784)\n",
      "(27455,)\n",
      "(7172,)\n"
     ]
    }
   ],
   "source": [
    "print(train.shape)\n",
    "print(test.shape)\n",
    "print(label.shape)\n",
    "print(test_label.shape)"
   ]
  },
  {
   "cell_type": "markdown",
   "metadata": {
    "id": "ct1kQj1wEtlY"
   },
   "source": [
    "# Data Visualization\n",
    "in this part we will analays and versialize each part of data to be in near step from our goal then pased on deployed models we will sense best factior that affect on our bussiness goal\n",
    "\n"
   ]
  },
  {
   "cell_type": "code",
   "execution_count": 19,
   "metadata": {
    "execution": {
     "iopub.execute_input": "2022-01-31T16:34:21.005144Z",
     "iopub.status.busy": "2022-01-31T16:34:21.004915Z",
     "iopub.status.idle": "2022-01-31T16:34:21.2937Z",
     "shell.execute_reply": "2022-01-31T16:34:21.292694Z",
     "shell.execute_reply.started": "2022-01-31T16:34:21.005118Z"
    },
    "id": "e84jSSvXZkm6",
    "outputId": "6f5023d8-418d-443c-8577-d72e990631e8"
   },
   "outputs": [
    {
     "data": {
      "image/png": "[encoded data removed]",
      "text/plain": [
       "<Figure size 432x288 with 1 Axes>"
      ]
     },
     "metadata": {
      "needs_background": "light"
     },
     "output_type": "display_data"
    }
   ],
   "source": [
    "sns.countplot(x= label)\n",
    "plt.show()"
   ]
  },
  {
   "cell_type": "markdown",
   "metadata": {
    "id": "nxt3qMdGbaYN"
   },
   "source": [
    "# Data Normalization\n",
    "hear we need to normalize data between 0,1 instead of 0,255 which nmuch better to make sure that all data have same importants"
   ]
  },
  {
   "cell_type": "code",
   "execution_count": 20,
   "metadata": {
    "execution": {
     "iopub.execute_input": "2022-01-31T16:34:21.29516Z",
     "iopub.status.busy": "2022-01-31T16:34:21.294936Z",
     "iopub.status.idle": "2022-01-31T16:34:21.359492Z",
     "shell.execute_reply": "2022-01-31T16:34:21.358843Z",
     "shell.execute_reply.started": "2022-01-31T16:34:21.295134Z"
    },
    "id": "I7I5_bpebBlI"
   },
   "outputs": [],
   "source": [
    "train = train /255\n",
    "test  = test /255"
   ]
  },
  {
   "cell_type": "code",
   "execution_count": 21,
   "metadata": {
    "execution": {
     "iopub.execute_input": "2022-01-31T16:34:21.360522Z",
     "iopub.status.busy": "2022-01-31T16:34:21.360322Z",
     "iopub.status.idle": "2022-01-31T16:34:21.451771Z",
     "shell.execute_reply": "2022-01-31T16:34:21.450863Z",
     "shell.execute_reply.started": "2022-01-31T16:34:21.360497Z"
    },
    "id": "PAjYjl-UtUo6"
   },
   "outputs": [],
   "source": [
    "train = np.array(train)\n",
    "test  = np.array(test)"
   ]
  },
  {
   "cell_type": "code",
   "execution_count": 22,
   "metadata": {
    "execution": {
     "iopub.execute_input": "2022-01-31T16:34:21.453807Z",
     "iopub.status.busy": "2022-01-31T16:34:21.45303Z",
     "iopub.status.idle": "2022-01-31T16:34:21.45849Z",
     "shell.execute_reply": "2022-01-31T16:34:21.457554Z",
     "shell.execute_reply.started": "2022-01-31T16:34:21.453762Z"
    },
    "id": "s1awzfwmsw_B"
   },
   "outputs": [],
   "source": [
    "train = train.reshape(train.shape[0],28,28,1)\n",
    "test  = test.reshape(test.shape[0],28,28,1)"
   ]
  },
  {
   "cell_type": "code",
   "execution_count": 23,
   "metadata": {
    "execution": {
     "iopub.execute_input": "2022-01-31T16:34:21.460055Z",
     "iopub.status.busy": "2022-01-31T16:34:21.459783Z",
     "iopub.status.idle": "2022-01-31T16:34:21.472125Z",
     "shell.execute_reply": "2022-01-31T16:34:21.471348Z",
     "shell.execute_reply.started": "2022-01-31T16:34:21.460024Z"
    },
    "id": "uuXCfQK6s_5t",
    "outputId": "681af3b5-084b-46ca-f9ba-28c4db6330ae"
   },
   "outputs": [
    {
     "name": "stdout",
     "output_type": "stream",
     "text": [
      "(27455, 28, 28, 1)\n",
      "(7172, 28, 28, 1)\n"
     ]
    }
   ],
   "source": [
    "print(train.shape)\n",
    "print(test.shape)"
   ]
  },
  {
   "cell_type": "code",
   "execution_count": 24,
   "metadata": {
    "execution": {
     "iopub.execute_input": "2022-01-31T16:34:21.473908Z",
     "iopub.status.busy": "2022-01-31T16:34:21.473373Z",
     "iopub.status.idle": "2022-01-31T16:34:22.045717Z",
     "shell.execute_reply": "2022-01-31T16:34:22.044186Z",
     "shell.execute_reply.started": "2022-01-31T16:34:21.473872Z"
    },
    "id": "CVMhpR-4gqvZ",
    "outputId": "7d8ea243-5e7d-4081-a1f5-36f12a4d4f11"
   },
   "outputs": [
    {
     "data": {
      "image/png": "[encoded data removed]",
      "text/plain": [
       "<Figure size 432x288 with 1 Axes>"
      ]
     },
     "metadata": {
      "needs_background": "light"
     },
     "output_type": "display_data"
    },
    {
     "data": {
      "image/png": "[encoded data removed]",
      "text/plain": [
       "<Figure size 432x288 with 1 Axes>"
      ]
     },
     "metadata": {
      "needs_background": "light"
     },
     "output_type": "display_data"
    }
   ],
   "source": [
    "image_x = random.randint(0,len(test))\n",
    "plt.imshow(np.reshape(train[image_x],(28,28)))\n",
    "plt.title('Train Image')\n",
    "plt.show()\n",
    "plt.imshow(np.reshape(test[image_x],(28,28)))\n",
    "plt.title('Test Image')\n",
    "plt.show()\n"
   ]
  },
  {
   "cell_type": "markdown",
   "metadata": {
    "id": "5O1NZpjrijnM"
   },
   "source": [
    "# Buliding Model"
   ]
  },
  {
   "cell_type": "code",
   "execution_count": 25,
   "metadata": {
    "execution": {
     "iopub.execute_input": "2022-01-31T16:34:22.047405Z",
     "iopub.status.busy": "2022-01-31T16:34:22.047122Z",
     "iopub.status.idle": "2022-01-31T16:34:22.239759Z",
     "shell.execute_reply": "2022-01-31T16:34:22.238816Z",
     "shell.execute_reply.started": "2022-01-31T16:34:22.047373Z"
    },
    "id": "t32k5YoLiheV"
   },
   "outputs": [],
   "source": [
    "model = models.Sequential()\n",
    "model.add(layers.Conv2D(64,(3,3),padding ='Same',activation = 'relu',input_shape=(28,28,1)))\n",
    "model.add(Dropout(0.1))\n",
    "model.add(BatchNormalization())\n",
    "model.add(layers.MaxPooling2D(2,2))\n",
    "model.add(Dropout(0.3))\n",
    "model.add(layers.Conv2D(128,(3,3),padding ='same',activation='relu'))\n",
    "model.add(BatchNormalization())\n",
    "model.add(layers.MaxPooling2D(2,2))\n",
    "model.add(Dropout(0.3))\n",
    "model.add(layers.Conv2D(128,(3,3),padding ='same',activation='relu'))\n",
    "model.add(BatchNormalization())\n",
    "model.add(layers.MaxPooling2D(2,2))\n"
   ]
  },
  {
   "cell_type": "code",
   "execution_count": 26,
   "metadata": {
    "execution": {
     "iopub.execute_input": "2022-01-31T16:34:22.24149Z",
     "iopub.status.busy": "2022-01-31T16:34:22.241175Z",
     "iopub.status.idle": "2022-01-31T16:34:22.25341Z",
     "shell.execute_reply": "2022-01-31T16:34:22.252537Z",
     "shell.execute_reply.started": "2022-01-31T16:34:22.241447Z"
    },
    "id": "xiisYER1hBQS",
    "outputId": "c4ba2de9-134f-4818-b5dd-6596f3ca86d8"
   },
   "outputs": [
    {
     "name": "stdout",
     "output_type": "stream",
     "text": [
      "Model: \"sequential\"\n",
      "_________________________________________________________________\n",
      " Layer (type)                Output Shape              Param #   \n",
      "=================================================================\n",
      " conv2d (Conv2D)             (None, 28, 28, 64)        640       \n",
      "                                                                 \n",
      " dropout (Dropout)           (None, 28, 28, 64)        0         \n",
      "                                                                 \n",
      " batch_normalization (BatchN  (None, 28, 28, 64)       256       \n",
      " ormalization)                                                   \n",
      "                                                                 \n",
      " max_pooling2d (MaxPooling2D  (None, 14, 14, 64)       0         \n",
      " )                                                               \n",
      "                                                                 \n",
      " dropout_1 (Dropout)         (None, 14, 14, 64)        0         \n",
      "                                                                 \n",
      " conv2d_1 (Conv2D)           (None, 14, 14, 128)       73856     \n",
      "                                                                 \n",
      " batch_normalization_1 (Batc  (None, 14, 14, 128)      512       \n",
      " hNormalization)                                                 \n",
      "                                                                 \n",
      " max_pooling2d_1 (MaxPooling  (None, 7, 7, 128)        0         \n",
      " 2D)                                                             \n",
      "                                                                 \n",
      " dropout_2 (Dropout)         (None, 7, 7, 128)         0         \n",
      "                                                                 \n",
      " conv2d_2 (Conv2D)           (None, 7, 7, 128)         147584    \n",
      "                                                                 \n",
      " batch_normalization_2 (Batc  (None, 7, 7, 128)        512       \n",
      " hNormalization)                                                 \n",
      "                                                                 \n",
      " max_pooling2d_2 (MaxPooling  (None, 3, 3, 128)        0         \n",
      " 2D)                                                             \n",
      "                                                                 \n",
      "=================================================================\n",
      "Total params: 223,360\n",
      "Trainable params: 222,720\n",
      "Non-trainable params: 640\n",
      "_________________________________________________________________\n"
     ]
    }
   ],
   "source": [
    "model.summary()"
   ]
  },
  {
   "cell_type": "code",
   "execution_count": 27,
   "metadata": {
    "execution": {
     "iopub.execute_input": "2022-01-31T16:34:22.254974Z",
     "iopub.status.busy": "2022-01-31T16:34:22.254769Z",
     "iopub.status.idle": "2022-01-31T16:34:22.288535Z",
     "shell.execute_reply": "2022-01-31T16:34:22.287702Z",
     "shell.execute_reply.started": "2022-01-31T16:34:22.254948Z"
    },
    "id": "C_5qbHhmipHp"
   },
   "outputs": [],
   "source": [
    "model.add(layers.Flatten())\n",
    "model.add(layers.Dense(128, activation='relu'))\n",
    "model.add(Dropout(0.2))\n",
    "model.add(layers.Dense(25, activation ='softmax'))"
   ]
  },
  {
   "cell_type": "code",
   "execution_count": 28,
   "metadata": {
    "execution": {
     "iopub.execute_input": "2022-01-31T16:34:22.291295Z",
     "iopub.status.busy": "2022-01-31T16:34:22.29049Z",
     "iopub.status.idle": "2022-01-31T16:34:22.304699Z",
     "shell.execute_reply": "2022-01-31T16:34:22.303598Z",
     "shell.execute_reply.started": "2022-01-31T16:34:22.291239Z"
    },
    "id": "4o1Zjq-sjzsI",
    "outputId": "68719723-907f-4197-af7a-aaa187e1de84"
   },
   "outputs": [
    {
     "name": "stdout",
     "output_type": "stream",
     "text": [
      "Model: \"sequential\"\n",
      "_________________________________________________________________\n",
      " Layer (type)                Output Shape              Param #   \n",
      "=================================================================\n",
      " conv2d (Conv2D)             (None, 28, 28, 64)        640       \n",
      "                                                                 \n",
      " dropout (Dropout)           (None, 28, 28, 64)        0         \n",
      "                                                                 \n",
      " batch_normalization (BatchN  (None, 28, 28, 64)       256       \n",
      " ormalization)                                                   \n",
      "                                                                 \n",
      " max_pooling2d (MaxPooling2D  (None, 14, 14, 64)       0         \n",
      " )                                                               \n",
      "                                                                 \n",
      " dropout_1 (Dropout)         (None, 14, 14, 64)        0         \n",
      "                                                                 \n",
      " conv2d_1 (Conv2D)           (None, 14, 14, 128)       73856     \n",
      "                                                                 \n",
      " batch_normalization_1 (Batc  (None, 14, 14, 128)      512       \n",
      " hNormalization)                                                 \n",
      "                                                                 \n",
      " max_pooling2d_1 (MaxPooling  (None, 7, 7, 128)        0         \n",
      " 2D)                                                             \n",
      "                                                                 \n",
      " dropout_2 (Dropout)         (None, 7, 7, 128)         0         \n",
      "                                                                 \n",
      " conv2d_2 (Conv2D)           (None, 7, 7, 128)         147584    \n",
      "                                                                 \n",
      " batch_normalization_2 (Batc  (None, 7, 7, 128)        512       \n",
      " hNormalization)                                                 \n",
      "                                                                 \n",
      " max_pooling2d_2 (MaxPooling  (None, 3, 3, 128)        0         \n",
      " 2D)                                                             \n",
      "                                                                 \n",
      " flatten (Flatten)           (None, 1152)              0         \n",
      "                                                                 \n",
      " dense (Dense)               (None, 128)               147584    \n",
      "                                                                 \n",
      " dropout_3 (Dropout)         (None, 128)               0         \n",
      "                                                                 \n",
      " dense_1 (Dense)             (None, 25)                3225      \n",
      "                                                                 \n",
      "=================================================================\n",
      "Total params: 374,169\n",
      "Trainable params: 373,529\n",
      "Non-trainable params: 640\n",
      "_________________________________________________________________\n"
     ]
    }
   ],
   "source": [
    "model.summary()"
   ]
  },
  {
   "cell_type": "code",
   "execution_count": 29,
   "metadata": {
    "execution": {
     "iopub.execute_input": "2022-01-31T16:34:22.30684Z",
     "iopub.status.busy": "2022-01-31T16:34:22.306183Z",
     "iopub.status.idle": "2022-01-31T16:34:22.322404Z",
     "shell.execute_reply": "2022-01-31T16:34:22.321735Z",
     "shell.execute_reply.started": "2022-01-31T16:34:22.30679Z"
    },
    "id": "27zpyCPuj3rz"
   },
   "outputs": [],
   "source": [
    "model.compile(optimizer='adam',\n",
    "              loss=tf.keras.losses.SparseCategoricalCrossentropy(from_logits=True),metrics=['accuracy'])\n"
   ]
  },
  {
   "cell_type": "code",
   "execution_count": 30,
   "metadata": {
    "execution": {
     "iopub.execute_input": "2022-01-31T16:34:22.327061Z",
     "iopub.status.busy": "2022-01-31T16:34:22.326807Z",
     "iopub.status.idle": "2022-01-31T16:45:45.456385Z",
     "shell.execute_reply": "2022-01-31T16:45:45.455068Z",
     "shell.execute_reply.started": "2022-01-31T16:34:22.327031Z"
    },
    "id": "fcs5fAhtj-GR",
    "outputId": "24975b53-7d3d-4991-e009-7fd485eec0da"
   },
   "outputs": [
    {
     "name": "stdout",
     "output_type": "stream",
     "text": [
      "Epoch 1/10\n"
     ]
    },
    {
     "name": "stderr",
     "output_type": "stream",
     "text": [
      "C:\\Users\\KRITHIGA\\Anaconda3\\lib\\site-packages\\keras\\backend.py:5585: UserWarning: \"`sparse_categorical_crossentropy` received `from_logits=True`, but the `output` argument was produced by a Softmax activation and thus does not represent logits. Was this intended?\n",
      "  output, from_logits = _get_logits(\n"
     ]
    },
    {
     "name": "stdout",
     "output_type": "stream",
     "text": [
      "858/858 [==============================] - 90s 98ms/step - loss: 0.5725 - accuracy: 0.8241 - val_loss: 0.1137 - val_accuracy: 0.9590\n",
      "Epoch 2/10\n",
      "858/858 [==============================] - 86s 100ms/step - loss: 0.0404 - accuracy: 0.9866 - val_loss: 0.1814 - val_accuracy: 0.9537\n",
      "Epoch 3/10\n",
      "858/858 [==============================] - 84s 98ms/step - loss: 0.0249 - accuracy: 0.9918 - val_loss: 0.2030 - val_accuracy: 0.9501\n",
      "Epoch 4/10\n",
      "858/858 [==============================] - 83s 97ms/step - loss: 0.0268 - accuracy: 0.9918 - val_loss: 0.1810 - val_accuracy: 0.9536\n",
      "Epoch 5/10\n",
      "858/858 [==============================] - 83s 97ms/step - loss: 0.0304 - accuracy: 0.9910 - val_loss: 0.2162 - val_accuracy: 0.9442\n",
      "Epoch 6/10\n",
      "858/858 [==============================] - 83s 97ms/step - loss: 0.0160 - accuracy: 0.9946 - val_loss: 0.2060 - val_accuracy: 0.9437\n",
      "Epoch 7/10\n",
      "858/858 [==============================] - 83s 96ms/step - loss: 0.0159 - accuracy: 0.9945 - val_loss: 0.7610 - val_accuracy: 0.8147\n",
      "Epoch 8/10\n",
      "858/858 [==============================] - 83s 96ms/step - loss: 0.0159 - accuracy: 0.9950 - val_loss: 0.1982 - val_accuracy: 0.9565\n",
      "Epoch 9/10\n",
      "858/858 [==============================] - 83s 97ms/step - loss: 0.0207 - accuracy: 0.9942 - val_loss: 0.1939 - val_accuracy: 0.9653\n",
      "Epoch 10/10\n",
      "858/858 [==============================] - 84s 97ms/step - loss: 0.0085 - accuracy: 0.9976 - val_loss: 0.4001 - val_accuracy: 0.8991\n"
     ]
    }
   ],
   "source": [
    "history = model.fit(train,label,epochs=10,validation_data=(test,test_label))\n"
   ]
  },
  {
   "cell_type": "code",
   "execution_count": 31,
   "metadata": {
    "execution": {
     "iopub.execute_input": "2022-01-31T16:45:45.459325Z",
     "iopub.status.busy": "2022-01-31T16:45:45.45882Z",
     "iopub.status.idle": "2022-01-31T16:45:50.514548Z",
     "shell.execute_reply": "2022-01-31T16:45:50.513589Z",
     "shell.execute_reply.started": "2022-01-31T16:45:45.459262Z"
    },
    "id": "fmDeBzza0s6s",
    "outputId": "e410528b-4e76-42b5-dd0b-c81ae4b77f74"
   },
   "outputs": [
    {
     "name": "stdout",
     "output_type": "stream",
     "text": [
      "225/225 [==============================] - 5s 23ms/step - loss: 0.4001 - accuracy: 0.8991\n"
     ]
    },
    {
     "data": {
      "text/plain": [
       "[0.4000757038593292, 0.8990518450737]"
      ]
     },
     "execution_count": 31,
     "metadata": {},
     "output_type": "execute_result"
    }
   ],
   "source": [
    "model.evaluate(test, test_label)"
   ]
  },
  {
   "cell_type": "markdown",
   "metadata": {
    "id": "yVF0SGc8fqmk"
   },
   "source": [
    "# predection"
   ]
  },
  {
   "cell_type": "code",
   "execution_count": 32,
   "metadata": {
    "execution": {
     "iopub.execute_input": "2022-01-31T16:45:50.516848Z",
     "iopub.status.busy": "2022-01-31T16:45:50.515934Z",
     "iopub.status.idle": "2022-01-31T16:45:54.927469Z",
     "shell.execute_reply": "2022-01-31T16:45:54.92657Z",
     "shell.execute_reply.started": "2022-01-31T16:45:50.5168Z"
    },
    "id": "nD3-ufXgdtyg",
    "outputId": "b7f5870e-5df8-489c-ad3c-121d0958555c"
   },
   "outputs": [
    {
     "name": "stdout",
     "output_type": "stream",
     "text": [
      "225/225 [==============================] - 9s 22ms/step\n"
     ]
    },
    {
     "data": {
      "text/plain": [
       "21"
      ]
     },
     "execution_count": 32,
     "metadata": {},
     "output_type": "execute_result"
    }
   ],
   "source": [
    "#get predection\n",
    "predictions = model.predict(test)\n",
    "predictions = np.argmax(predictions, axis = 1)\n",
    "predictions[5]"
   ]
  },
  {
   "cell_type": "code",
   "execution_count": 33,
   "metadata": {
    "execution": {
     "iopub.execute_input": "2022-01-31T16:45:54.929368Z",
     "iopub.status.busy": "2022-01-31T16:45:54.929032Z",
     "iopub.status.idle": "2022-01-31T16:45:55.126319Z",
     "shell.execute_reply": "2022-01-31T16:45:55.125472Z",
     "shell.execute_reply.started": "2022-01-31T16:45:54.929323Z"
    },
    "id": "ocC144w-d8yy",
    "outputId": "1ca7a7d0-d8c8-470d-8cb6-213df68025bf"
   },
   "outputs": [
    {
     "data": {
      "image/png": "[encoded data removed]",
      "text/plain": [
       "<Figure size 432x288 with 1 Axes>"
      ]
     },
     "metadata": {
      "needs_background": "light"
     },
     "output_type": "display_data"
    }
   ],
   "source": [
    "plt.imshow(np.reshape(test[5],(28,28)))\n",
    "plt.title('Test Image')\n",
    "plt.show()"
   ]
  },
  {
   "cell_type": "code",
   "execution_count": 34,
   "metadata": {
    "execution": {
     "iopub.execute_input": "2022-01-31T16:45:55.127902Z",
     "iopub.status.busy": "2022-01-31T16:45:55.127451Z",
     "iopub.status.idle": "2022-01-31T16:45:59.716594Z",
     "shell.execute_reply": "2022-01-31T16:45:59.715391Z",
     "shell.execute_reply.started": "2022-01-31T16:45:55.127861Z"
    },
    "id": "qjCm9uyhcUns",
    "outputId": "df897974-bded-49f1-edf9-fe1c8c28b21b"
   },
   "outputs": [
    {
     "name": "stdout",
     "output_type": "stream",
     "text": [
      "225/225 - 5s - loss: 0.4001 - accuracy: 0.8991 - 5s/epoch - 22ms/step\n"
     ]
    },
    {
     "data": {
      "image/png": "[encoded data removed]",
      "text/plain": [
       "<Figure size 432x288 with 1 Axes>"
      ]
     },
     "metadata": {
      "needs_background": "light"
     },
     "output_type": "display_data"
    }
   ],
   "source": [
    "plt.plot(history.history['accuracy'], label='accuracy')\n",
    "plt.plot(history.history['val_accuracy'], label = 'val_accuracy')\n",
    "plt.xlabel('Epoch')\n",
    "plt.ylabel('Accuracy')\n",
    "plt.ylim([0.5, 1])\n",
    "plt.legend(loc='lower right')\n",
    "\n",
    "test_loss, test_acc = model.evaluate(test,  test_label, verbose=2)"
   ]
  },
  {
   "cell_type": "code",
   "execution_count": null,
   "metadata": {},
   "outputs": [],
   "source": []
  }
 ],
 "metadata": {
  "kernelspec": {
   "display_name": "Python 3",
   "language": "python",
   "name": "python3"
  },
  "language_info": {
   "codemirror_mode": {
    "name": "ipython",
    "version": 3
   },
   "file_extension": ".py",
   "mimetype": "text/x-python",
   "name": "python",
   "nbconvert_exporter": "python",
   "pygments_lexer": "ipython3",
   "version": "3.8.5"
  }
 },
 "nbformat": 4,
 "nbformat_minor": 4
}
